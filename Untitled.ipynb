{
 "cells": [
  {
   "cell_type": "code",
   "execution_count": 1,
   "metadata": {},
   "outputs": [],
   "source": [
    "import uproot\n",
    "import numpy as np\n",
    "import matplotlib.pyplot as plt\n",
    "import h5py\n",
    "from tqdm import tqdm"
   ]
  },
  {
   "cell_type": "code",
   "execution_count": 2,
   "metadata": {},
   "outputs": [],
   "source": [
    "run_num = 1506\n",
    "raw_path = '/store/hep/JSNS2/raw_cw/raw_data/r00'+str(run_num)+'/'\n",
    "jade_path1 = '/store/hep/JSNS2/raw_cw/Jade_data/r00'+str(run_num)+'/prod_ver0/'\n",
    "jade_path2 = '/store/hep/JSNS2/raw_cw/Jade_data/r00'+str(run_num)+'/reco_ver0/Run_00'+str(run_num)+'/'\n",
    "output_path = '/store/hep/users/yewzzang/JSNS2/cf_data2/'"
   ]
  },
  {
   "cell_type": "code",
   "execution_count": 3,
   "metadata": {},
   "outputs": [],
   "source": [
    "i = 1\n",
    "raw_file = 'debug.r00'+str(run_num)+'.f'+ '{0:05d}'.format(i)+'.root'\n",
    "prod_file = 'jade_ver0_r00'+str(run_num)+'_s'+ '{0:05d}'.format(i)+'.root'\n",
    "reco_file = 'Reco_jade_ver0_r00'+str(run_num)+'_s'+ '{0:05d}'.format(i)+'.root'"
   ]
  },
  {
   "cell_type": "code",
   "execution_count": 4,
   "metadata": {},
   "outputs": [],
   "source": [
    "f = uproot.open(jade_path1+prod_file)['triggerTree']['trigger/eventsID/eventsID.pmtCharges'].array()\n",
    "ff = uproot.open(jade_path2+reco_file)['recoTriggerTree']['recoTrigger/events/events.vertexReco'].array()\n"
   ]
  },
  {
   "cell_type": "code",
   "execution_count": 5,
   "metadata": {},
   "outputs": [],
   "source": [
    "test = uproot.open(jade_path1+prod_file)"
   ]
  },
  {
   "cell_type": "code",
   "execution_count": 6,
   "metadata": {},
   "outputs": [
    {
     "data": {
      "text/plain": [
       "['triggerTree;4', 'triggerTree;3', 'detector;1', 'eventBuilderTree;1']"
      ]
     },
     "execution_count": 6,
     "metadata": {},
     "output_type": "execute_result"
    }
   ],
   "source": [
    "test.keys()"
   ]
  },
  {
   "cell_type": "code",
   "execution_count": 8,
   "metadata": {
    "scrolled": false
   },
   "outputs": [
    {
     "data": {
      "text/plain": [
       "['trigger',\n",
       " 'trigger/TObject',\n",
       " 'trigger/TObject/fUniqueID',\n",
       " 'trigger/TObject/fBits',\n",
       " 'trigger/numSamples',\n",
       " 'trigger/hasSelfTrigger',\n",
       " 'trigger/hasLEDTrigger',\n",
       " 'trigger/hasKicker',\n",
       " 'trigger/hasKickerDelayed',\n",
       " 'trigger/hasTopVetoAS',\n",
       " 'trigger/hasBottomVetoAS',\n",
       " 'trigger/hasInnerAS',\n",
       " 'trigger/hasCT',\n",
       " 'trigger/numSelfTrigger',\n",
       " 'trigger/numLEDTrigger',\n",
       " 'trigger/numKicker',\n",
       " 'trigger/numKickerDelayed',\n",
       " 'trigger/numTopVetoAS',\n",
       " 'trigger/numBottomVetoAS',\n",
       " 'trigger/numInnerAS',\n",
       " 'trigger/numCT',\n",
       " 'trigger/numInvalidPedestal',\n",
       " 'trigger/triggerBoardTimeTag',\n",
       " 'trigger/eventsID',\n",
       " 'trigger/eventsID/eventsID.fUniqueID',\n",
       " 'trigger/eventsID/eventsID.fBits',\n",
       " 'trigger/eventsID/eventsID.eventID',\n",
       " 'trigger/eventsID/eventsID.start',\n",
       " 'trigger/eventsID/eventsID.end',\n",
       " 'trigger/eventsID/eventsID.time',\n",
       " 'trigger/eventsID/eventsID.pmtIDs',\n",
       " 'trigger/eventsID/eventsID.pmtHitFlags',\n",
       " 'trigger/eventsID/eventsID.pmtCharges',\n",
       " 'trigger/eventsID/eventsID.pmtTimes',\n",
       " 'trigger/eventsID/eventsID.pmtSaturatedFlags',\n",
       " 'trigger/eventsID/eventsID.numHits',\n",
       " 'trigger/eventsID/eventsID.numHitsNS',\n",
       " 'trigger/eventsID/eventsID.qTotal',\n",
       " 'trigger/eventsID/eventsID.qTotalNS',\n",
       " 'trigger/eventsID/eventsID.qMax',\n",
       " 'trigger/eventsID/eventsID.qMaxPMTID',\n",
       " 'trigger/eventsID/eventsID.centroid',\n",
       " 'trigger/eventsTV',\n",
       " 'trigger/eventsTV/eventsTV.fUniqueID',\n",
       " 'trigger/eventsTV/eventsTV.fBits',\n",
       " 'trigger/eventsTV/eventsTV.eventID',\n",
       " 'trigger/eventsTV/eventsTV.start',\n",
       " 'trigger/eventsTV/eventsTV.end',\n",
       " 'trigger/eventsTV/eventsTV.time',\n",
       " 'trigger/eventsTV/eventsTV.pmtIDs',\n",
       " 'trigger/eventsTV/eventsTV.pmtHitFlags',\n",
       " 'trigger/eventsTV/eventsTV.pmtCharges',\n",
       " 'trigger/eventsTV/eventsTV.pmtTimes',\n",
       " 'trigger/eventsTV/eventsTV.pmtSaturatedFlags',\n",
       " 'trigger/eventsTV/eventsTV.numHits',\n",
       " 'trigger/eventsTV/eventsTV.numHitsNS',\n",
       " 'trigger/eventsTV/eventsTV.qTotal',\n",
       " 'trigger/eventsTV/eventsTV.qTotalNS',\n",
       " 'trigger/eventsTV/eventsTV.qMax',\n",
       " 'trigger/eventsTV/eventsTV.qMaxPMTID',\n",
       " 'trigger/eventsTV/eventsTV.centroid',\n",
       " 'trigger/eventsBV',\n",
       " 'trigger/eventsBV/eventsBV.fUniqueID',\n",
       " 'trigger/eventsBV/eventsBV.fBits',\n",
       " 'trigger/eventsBV/eventsBV.eventID',\n",
       " 'trigger/eventsBV/eventsBV.start',\n",
       " 'trigger/eventsBV/eventsBV.end',\n",
       " 'trigger/eventsBV/eventsBV.time',\n",
       " 'trigger/eventsBV/eventsBV.pmtIDs',\n",
       " 'trigger/eventsBV/eventsBV.pmtHitFlags',\n",
       " 'trigger/eventsBV/eventsBV.pmtCharges',\n",
       " 'trigger/eventsBV/eventsBV.pmtTimes',\n",
       " 'trigger/eventsBV/eventsBV.pmtSaturatedFlags',\n",
       " 'trigger/eventsBV/eventsBV.numHits',\n",
       " 'trigger/eventsBV/eventsBV.numHitsNS',\n",
       " 'trigger/eventsBV/eventsBV.qTotal',\n",
       " 'trigger/eventsBV/eventsBV.qTotalNS',\n",
       " 'trigger/eventsBV/eventsBV.qMax',\n",
       " 'trigger/eventsBV/eventsBV.qMaxPMTID',\n",
       " 'trigger/eventsBV/eventsBV.centroid',\n",
       " 'trigger/pmts',\n",
       " 'trigger/pmts/pmts.fUniqueID',\n",
       " 'trigger/pmts/pmts.fBits',\n",
       " 'trigger/pmts/pmts.pmtID',\n",
       " 'trigger/pmts/pmts.hasHit',\n",
       " 'trigger/pmts/pmts.hasLowGain',\n",
       " 'trigger/pmts/pmts.highGainWaveform.fUniqueID',\n",
       " 'trigger/pmts/pmts.highGainWaveform.fBits',\n",
       " 'trigger/pmts/pmts.highGainWaveform.timeTag',\n",
       " 'trigger/pmts/pmts.highGainWaveform.pedestalValid',\n",
       " 'trigger/pmts/pmts.highGainWaveform.pedestalVarHigh',\n",
       " 'trigger/pmts/pmts.highGainWaveform.pedestalStart',\n",
       " 'trigger/pmts/pmts.highGainWaveform.pedestalEnd',\n",
       " 'trigger/pmts/pmts.highGainWaveform.pedestal',\n",
       " 'trigger/pmts/pmts.highGainWaveform.pedestalVar',\n",
       " 'trigger/pmts/pmts.highGainWaveform.hasPulse',\n",
       " 'trigger/pmts/pmts.highGainWaveform.hasMaxValue',\n",
       " 'trigger/pmts/pmts.highGainWaveform.primaryPulse',\n",
       " 'trigger/pmts/pmts.highGainWaveform.globalAmplitude',\n",
       " 'trigger/pmts/pmts.highGainWaveform.pulses',\n",
       " 'trigger/pmts/pmts.lowGainWaveform.fUniqueID',\n",
       " 'trigger/pmts/pmts.lowGainWaveform.fBits',\n",
       " 'trigger/pmts/pmts.lowGainWaveform.timeTag',\n",
       " 'trigger/pmts/pmts.lowGainWaveform.pedestalValid',\n",
       " 'trigger/pmts/pmts.lowGainWaveform.pedestalVarHigh',\n",
       " 'trigger/pmts/pmts.lowGainWaveform.pedestalStart',\n",
       " 'trigger/pmts/pmts.lowGainWaveform.pedestalEnd',\n",
       " 'trigger/pmts/pmts.lowGainWaveform.pedestal',\n",
       " 'trigger/pmts/pmts.lowGainWaveform.pedestalVar',\n",
       " 'trigger/pmts/pmts.lowGainWaveform.hasPulse',\n",
       " 'trigger/pmts/pmts.lowGainWaveform.hasMaxValue',\n",
       " 'trigger/pmts/pmts.lowGainWaveform.primaryPulse',\n",
       " 'trigger/pmts/pmts.lowGainWaveform.globalAmplitude',\n",
       " 'trigger/pmts/pmts.lowGainWaveform.pulses']"
      ]
     },
     "execution_count": 8,
     "metadata": {},
     "output_type": "execute_result"
    }
   ],
   "source": [
    "test['triggerTree'].keys()"
   ]
  },
  {
   "cell_type": "code",
   "execution_count": null,
   "metadata": {},
   "outputs": [],
   "source": []
  },
  {
   "cell_type": "code",
   "execution_count": null,
   "metadata": {},
   "outputs": [],
   "source": []
  },
  {
   "cell_type": "code",
   "execution_count": null,
   "metadata": {},
   "outputs": [],
   "source": []
  },
  {
   "cell_type": "code",
   "execution_count": null,
   "metadata": {},
   "outputs": [],
   "source": []
  }
 ],
 "metadata": {
  "kernelspec": {
   "display_name": "Python 3",
   "language": "python",
   "name": "python3"
  },
  "language_info": {
   "codemirror_mode": {
    "name": "ipython",
    "version": 3
   },
   "file_extension": ".py",
   "mimetype": "text/x-python",
   "name": "python",
   "nbconvert_exporter": "python",
   "pygments_lexer": "ipython3",
   "version": "3.7.9"
  }
 },
 "nbformat": 4,
 "nbformat_minor": 4
}
