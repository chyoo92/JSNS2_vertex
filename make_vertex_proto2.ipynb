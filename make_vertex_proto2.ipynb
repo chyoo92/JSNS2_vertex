{
 "cells": [
  {
   "cell_type": "code",
   "execution_count": 1,
   "metadata": {},
   "outputs": [],
   "source": [
    "import uproot\n",
    "import numpy as np\n",
    "import matplotlib.pyplot as plt\n",
    "import h5py"
   ]
  },
  {
   "cell_type": "code",
   "execution_count": null,
   "metadata": {},
   "outputs": [],
   "source": []
  },
  {
   "cell_type": "code",
   "execution_count": 22,
   "metadata": {},
   "outputs": [],
   "source": [
    "PMTs = np.array([[0,4,1,16,1],[1,4,2,16,2],[2,4,3,16,3],[3,4,4,16,4],\n",
    "[4,4,5,16,5],[5,3,3,15,3],[6,3,4,15,4],[7,3,5,15,5],\n",
    "[8,5,0,17,0],[9,5,1,17,1],[10,4,6,16,6],[11,4,7,16,7],\n",
    "[12,6,0,18,0],[13,6,1,18,1],[14,6,2,18,2],[15,1,6,13,6],\n",
    "[16,1,7,13,7],[17,7,0,19,0],[18,7,1,19,1],[19,7,2,19,2],\n",
    "[20,7,3,19,3],[21,7,4,19,4],[22,7,5,19,5],[23,7,6,19,6],\n",
    "[24,5,2,17,2],[25,5,3,17,3],[26,5,4,17,4],[27,8,0,20,0],\n",
    "[28,9,0,21,0],[29,9,1,21,1],[30,3,6,15,6],[31,3,7,15,7],\n",
    "[32,7,7,19,7],[33,5,5,17,5],[34,5,6,17,6],[35,5,7,17,7],\n",
    "[36,6,3,18,3],[37,6,4,18,4],[38,6,5,18,5],[39,6,6,18,6],\n",
    "[40,6,7,18,7],[41,10,0,22,0],[42,10,1,22,1],[43,10,2,22,2],\n",
    "[44,10,3,22,3],[45,10,4,22,4],[46,10,5,22,5],[47,10,6,22,6],\n",
    "[48,8,1,20,1],[49,8,2,20,2],[50,8,3,20,3],[51,8,4,20,4],\n",
    "[52,9,2,21,2],[53,9,3,21,3],[54,9,4,21,4],[55,9,5,21,5],\n",
    "[56,10,7,22,7],[57,8,5,20,5],[58,8,6,20,6],[59,8,7,20,7],\n",
    "[60,1,0,13,0],[61,1,1,13,1],[62,1,2,13,2],[63,1,3,13,3],\n",
    "[64,3,0,15,0],[65,1,4,13,4],[66,2,0,14,0],[67,2,1,14,1],\n",
    "[68,2,2,14,2],[69,1,5,13,5],[70,4,0,16,0],[71,2,3,14,3],\n",
    "[72,2,4,14,4],[73,3,1,15,1],[74,3,2,15,2],[75,2,5,14,5],\n",
    "[76,2,6,14,6],[77,2,7,14,7],[78,12,0,24,0],[79,12,1,24,1],\n",
    "[80,12,2,24,2],[81,12,3,24,3],[82,12,4,24,4],[83,12,5,24,5],\n",
    "[84,11,0,23,0],[85,11,1,23,1],[86,11,2,23,2],[87,11,3,23,3],\n",
    "[88,11,4,23,4],[89,9,6,21,6],[90,9,7,21,7],[91,12,6,24,6],\n",
    "[92,12,7,24,7],[93,11,5,23,5],[94,11,6,23,6],[95,11,7,23,7]])"
   ]
  },
  {
   "cell_type": "code",
   "execution_count": 3,
   "metadata": {},
   "outputs": [],
   "source": [
    "pmt_pos = np.array([[0,1709.18,-707.96,1200.0],[1,1126.21,-1467.7,1200.0],[2,241.47,-1834.17,1200.0],[3,-707.96,-1709.18,1200.0],\n",
    "[4,-1467.7,-1126.21,1200.0],[5,-1834.17,-241.47,1200.0],[6,-1709.18,707.96,1200.0],[7,-1126.21,1467.7,1200.0],\n",
    "[8,-241.48,1834.17,1200.0],[9,707.96,1709.18,1200.0],[10,1467.7,1126.21,1200.0],[11,1834.17,241.48,1200.0],\n",
    "[12,1709.18,-707.96,600.0],[13,1126.21,-1467.7,600.0],[14,241.47,-1834.17,600.0],[15,-707.96,-1709.18,600.0],\n",
    "[16,-1467.7,-1126.21,600.0],[17,-1834.17,-241.47,600.0],[18,-1709.18,707.96,600.0],[19,-1126.21,1467.7,600.0],\n",
    "[20,-241.48,1834.17,600.0],[21,707.96,1709.18,600.0],[22,1467.7,1126.21,600.0],[23,1834.17,241.48,600.0],\n",
    "[24,1709.18,-707.96,0.0],[25,1126.21,-1467.7,0.0],[26,241.47,-1834.17,0.0],[27,-707.96,-1709.18,0.0],\n",
    "[28,-1467.7,-1126.21,0.0],[29,-1834.17,-241.47,0.0],[30,-1709.18,707.96,0.0],[31,-1126.21,1467.7,0.0],\n",
    "[32,-241.48,1834.17,0.0],[33,707.96,1709.18,0.0],[34,1467.7,1126.21,0.0],[35,1834.17,241.48,0.0],\n",
    "[36,1709.18,-707.96,-600.0],[37,1126.21,-1467.7,-600.0],[38,241.47,-1834.17,-600.0],[39,-707.96,-1709.18,-600.0],\n",
    "[40,-1467.7,-1126.21,-600.0],[41,-1834.17,-241.47,-600.0],[42,-1709.18,707.96,-600.0],[43,-1126.21,1467.7,-600.0],\n",
    "[44,-241.48,1834.17,-600.0],[45,707.96,1709.18,-600.0],[46,1467.7,1126.21,-600.0],[47,1834.17,241.48,-600.0],\n",
    "[48,1709.18,-707.96,-1200.0],[49,1126.21,-1467.7,-1200.0],[50,241.47,-1834.17,-1200.0],[51,-707.96,-1709.18,-1200.0],\n",
    "[52,-1467.7,-1126.21,-1200.0],[53,-1834.17,-241.47,-1200.0],[54,-1709.18,707.96,-1200.0],[55,-1126.21,1467.7,-1200.0],\n",
    "[56,-241.48,1834.17,-1200.0],[57,707.96,1709.18,-1200.0],[58,1467.7,1126.21,-1200.0],[59,1834.17,241.48,-1200.0],\n",
    "[60,550.0,-0.0,1470.0],[61,275.0,-476.31,1470.0],[62,-275.0,-476.31,1470.0],[63,-550.0,-0.0,1470.0],\n",
    "[64,-275.0,476.31,1470.0],[65,275.0,476.31,1470.0],[66,1062.52,-284.7,1470.0],[67,777.82,-777.82,1470.0],\n",
    "[68,284.7,-1062.52,1470.0],[69,-284.7,-1062.52,1470.0],[70,-777.82,-777.82,1470.0],[71,-1062.52,-284.7,1470.0],\n",
    "[72,-1062.52,284.7,1470.0],[73,-777.82,777.82,1470.0],[74,-284.7,1062.52,1470.0],[75,284.7,1062.52,1470.0],\n",
    "[76,777.82,777.82,1470.0],[77,1062.52,284.7,1470.0],[78,550.0,-0.0,-1470.0],[79,275.0,-476.31,-1470.0],\n",
    "[80,-275.0,-476.31,-1470.0],[81,-550.0,-0.0,-1470.0],[82,-275.0,476.31,-1470.0],[83,275.0,476.31,-1470.0],\n",
    "[84,1062.52,-284.7,-1470.0],[85,777.82,-777.82,-1470.0],[86,284.7,-1062.52,-1470.0],[87,-284.7,-1062.52,-1470.0],\n",
    "[88,-777.82,-777.82,-1470.0],[89,-1062.52,-284.7,-1470.0],[90,-1062.52,284.7,-1470.0],[91,-777.82,777.82,-1470.0],\n",
    "[92,-284.7,1062.52,-1470.0],[93,284.7,1062.52,-1470.0],[94,777.82,777.82,-1470.0],[95,1062.52,284.7,-1470.0],\n",
    "[96,2107.453,-35.3809,1475.0],[97,1084.3685,1807.4167,1475.0],[98,-1023.089,1842.7965,1475.0],[99,-2107.4532,35.372,1475.0],\n",
    "[100,-1084.3637,-1807.4196,1475.0],[101,1023.0939,-1842.7938,1475.0],[102,-1566.1062,-1201.726,1606.0],[103,257.6573,-1957.1527,1606.0],\n",
    "[104,1823.7752,-755.4323,1606.0],[105,1566.1118,1201.7187,1606.0],[106,-257.6717,1957.1508,1606.0],[107,-1823.7725,755.4389,1606.0],\n",
    "[108,2107.453,-35.3809,-1475.0],[109,1084.3685,1807.4167,-1475.0],[110,-1023.089,1842.7965,-1475.0],[111,-2107.4532,35.372,-1475.0],\n",
    "[112,-1084.3637,-1807.4196,-1475.0],[113,1023.0939,-1842.7938,-1475.0],[114,-1566.1062,-1201.726,-1606.0],[115,257.6573,-1957.1527,-1606.0],\n",
    "[116,1823.7752,-755.4323,-1606.0],[117,1566.1118,1201.7187,-1606.0],[118,-257.6717,1957.1508,-1606.0],[119,-1823.7725,755.4389,-1606.0]])"
   ]
  },
  {
   "cell_type": "code",
   "execution_count": 12,
   "metadata": {
    "scrolled": false
   },
   "outputs": [
    {
     "ename": "NameError",
     "evalue": "name 'stop' is not defined",
     "output_type": "error",
     "traceback": [
      "\u001b[0;31m---------------------------------------------------------------------------\u001b[0m",
      "\u001b[0;31mNameError\u001b[0m                                 Traceback (most recent call last)",
      "\u001b[0;32m<ipython-input-12-50ece150a682>\u001b[0m in \u001b[0;36m<module>\u001b[0;34m\u001b[0m\n\u001b[1;32m     35\u001b[0m             \u001b[0mpmt_high\u001b[0m \u001b[0;34m=\u001b[0m \u001b[0mnp\u001b[0m\u001b[0;34m.\u001b[0m\u001b[0mappend\u001b[0m\u001b[0;34m(\u001b[0m\u001b[0mpmt_high\u001b[0m\u001b[0;34m,\u001b[0m\u001b[0mwaveform\u001b[0m\u001b[0;34m[\u001b[0m\u001b[0mevents_num\u001b[0m\u001b[0;34m,\u001b[0m\u001b[0mPMTs\u001b[0m\u001b[0;34m[\u001b[0m\u001b[0mpmt\u001b[0m\u001b[0;34m]\u001b[0m\u001b[0;34m[\u001b[0m\u001b[0;36m1\u001b[0m\u001b[0;34m]\u001b[0m\u001b[0;34m,\u001b[0m\u001b[0mPMTs\u001b[0m\u001b[0;34m[\u001b[0m\u001b[0mpmt\u001b[0m\u001b[0;34m]\u001b[0m\u001b[0;34m[\u001b[0m\u001b[0;36m2\u001b[0m\u001b[0;34m]\u001b[0m\u001b[0;34m,\u001b[0m\u001b[0;34m:\u001b[0m\u001b[0;34m]\u001b[0m\u001b[0;34m.\u001b[0m\u001b[0mreshape\u001b[0m\u001b[0;34m(\u001b[0m\u001b[0;36m1\u001b[0m\u001b[0;34m,\u001b[0m\u001b[0;34m-\u001b[0m\u001b[0;36m1\u001b[0m\u001b[0;34m)\u001b[0m\u001b[0;34m,\u001b[0m\u001b[0maxis\u001b[0m\u001b[0;34m=\u001b[0m\u001b[0;36m0\u001b[0m\u001b[0;34m)\u001b[0m\u001b[0;34m\u001b[0m\u001b[0;34m\u001b[0m\u001b[0m\n\u001b[1;32m     36\u001b[0m             \u001b[0mpmt_low\u001b[0m \u001b[0;34m=\u001b[0m \u001b[0mnp\u001b[0m\u001b[0;34m.\u001b[0m\u001b[0mappend\u001b[0m\u001b[0;34m(\u001b[0m\u001b[0mpmt_low\u001b[0m\u001b[0;34m,\u001b[0m\u001b[0mwaveform\u001b[0m\u001b[0;34m[\u001b[0m\u001b[0mevents_num\u001b[0m\u001b[0;34m,\u001b[0m\u001b[0mPMTs\u001b[0m\u001b[0;34m[\u001b[0m\u001b[0mpmt\u001b[0m\u001b[0;34m]\u001b[0m\u001b[0;34m[\u001b[0m\u001b[0;36m3\u001b[0m\u001b[0;34m]\u001b[0m\u001b[0;34m,\u001b[0m\u001b[0mPMTs\u001b[0m\u001b[0;34m[\u001b[0m\u001b[0mpmt\u001b[0m\u001b[0;34m]\u001b[0m\u001b[0;34m[\u001b[0m\u001b[0;36m4\u001b[0m\u001b[0;34m]\u001b[0m\u001b[0;34m,\u001b[0m\u001b[0;34m:\u001b[0m\u001b[0;34m]\u001b[0m\u001b[0;34m.\u001b[0m\u001b[0mreshape\u001b[0m\u001b[0;34m(\u001b[0m\u001b[0;36m1\u001b[0m\u001b[0;34m,\u001b[0m\u001b[0;34m-\u001b[0m\u001b[0;36m1\u001b[0m\u001b[0;34m)\u001b[0m\u001b[0;34m,\u001b[0m\u001b[0maxis\u001b[0m\u001b[0;34m=\u001b[0m\u001b[0;36m0\u001b[0m\u001b[0;34m)\u001b[0m\u001b[0;34m\u001b[0m\u001b[0;34m\u001b[0m\u001b[0m\n\u001b[0;32m---> 37\u001b[0;31m         \u001b[0mstop\u001b[0m\u001b[0;34m\u001b[0m\u001b[0;34m\u001b[0m\u001b[0m\n\u001b[0m\u001b[1;32m     38\u001b[0m         \u001b[0mpmts_high\u001b[0m \u001b[0;34m=\u001b[0m \u001b[0mnp\u001b[0m\u001b[0;34m.\u001b[0m\u001b[0mappend\u001b[0m\u001b[0;34m(\u001b[0m\u001b[0mpmts_high\u001b[0m\u001b[0;34m,\u001b[0m\u001b[0mpmt_high\u001b[0m\u001b[0;34m.\u001b[0m\u001b[0mreshape\u001b[0m\u001b[0;34m(\u001b[0m\u001b[0;36m1\u001b[0m\u001b[0;34m,\u001b[0m\u001b[0;36m96\u001b[0m\u001b[0;34m,\u001b[0m\u001b[0;36m248\u001b[0m\u001b[0;34m)\u001b[0m\u001b[0;34m,\u001b[0m\u001b[0maxis\u001b[0m\u001b[0;34m=\u001b[0m\u001b[0;36m0\u001b[0m\u001b[0;34m)\u001b[0m\u001b[0;34m\u001b[0m\u001b[0;34m\u001b[0m\u001b[0m\n\u001b[1;32m     39\u001b[0m         \u001b[0mpmts_low\u001b[0m \u001b[0;34m=\u001b[0m \u001b[0mnp\u001b[0m\u001b[0;34m.\u001b[0m\u001b[0mappend\u001b[0m\u001b[0;34m(\u001b[0m\u001b[0mpmts_low\u001b[0m\u001b[0;34m,\u001b[0m\u001b[0mpmt_low\u001b[0m\u001b[0;34m.\u001b[0m\u001b[0mreshape\u001b[0m\u001b[0;34m(\u001b[0m\u001b[0;36m1\u001b[0m\u001b[0;34m,\u001b[0m\u001b[0;36m96\u001b[0m\u001b[0;34m,\u001b[0m\u001b[0;36m248\u001b[0m\u001b[0;34m)\u001b[0m\u001b[0;34m,\u001b[0m\u001b[0maxis\u001b[0m\u001b[0;34m=\u001b[0m\u001b[0;36m0\u001b[0m\u001b[0;34m)\u001b[0m\u001b[0;34m\u001b[0m\u001b[0;34m\u001b[0m\u001b[0m\n",
      "\u001b[0;31mNameError\u001b[0m: name 'stop' is not defined"
     ]
    }
   ],
   "source": [
    "raw_path = '/store/hep/users/yewzzang/JSNS2/vertex/raw_file/'\n",
    "cw_me = '/users/wonsang1995/CWDataDir/v3_classify/r001563/ME/'\n",
    "cw_fn = '/users/wonsang1995/CWDataDir/v3_classify/r001563/FN/'\n",
    "for i in range(3697):\n",
    "    raw_file = 'debug.r001563.f'+ '{0:05d}'.format(i)+'.root'\n",
    "    cw_file = 'comb.'+raw_file\n",
    "    waveform = np.array(uproot.open(raw_path+raw_file)['tree']['FADC'])\n",
    "    trig = np.array(uproot.open(raw_path+raw_file)['tree']['TrigID'])\n",
    "    timetag = np.array(uproot.open(raw_path+raw_file)['tree']['TimeTag'])\n",
    "\n",
    "\n",
    "    FN_trig = np.array(uproot.open(cw_fn+cw_file)['comTree']['TrigID'])\n",
    "    FN_vtx = np.array(uproot.open(cw_fn+cw_file)['comTree']['CorRecoVertex'])\n",
    "\n",
    "    ME_trig = np.array(uproot.open(cw_me+cw_file)['comTree']['TrigID'])\n",
    "    ME_vtx = np.array(uproot.open(cw_me+cw_file)['comTree']['CorRecoVertex'])\n",
    "    all_trig = np.concatenate((FN_trig, ME_trig),axis=0)\n",
    "    all_vtx = np.concatenate((FN_vtx, ME_vtx),axis=0)\n",
    "    output_name = 'r001563_vertex_'+ '{0:05d}'.format(i)+'.h5'\n",
    "\n",
    "    pmts_high = np.empty((0,96,248))\n",
    "    pmts_low = np.empty((0,96,248))\n",
    "    times = np.empty((0,28))\n",
    "\n",
    "\n",
    "    for nums in range(len(all_trig)):\n",
    "\n",
    "        events_num = np.where(trig==all_trig[nums])\n",
    "\n",
    "        times = np.append(times,timetag[int(events_num[0])].reshape(1,28),axis=0)\n",
    "    # for events in range(100):\n",
    "        pmt_high = np.empty((0,248))\n",
    "        pmt_low = np.empty((0,248))\n",
    "        for pmt in range(96):\n",
    "            pmt_high = np.append(pmt_high,waveform[events_num,PMTs[pmt][1],PMTs[pmt][2],:].reshape(1,-1),axis=0)\n",
    "            pmt_low = np.append(pmt_low,waveform[events_num,PMTs[pmt][3],PMTs[pmt][4],:].reshape(1,-1),axis=0)\n",
    "        stop\n",
    "        pmts_high = np.append(pmts_high,pmt_high.reshape(1,96,248),axis=0)\n",
    "        pmts_low = np.append(pmts_low,pmt_low.reshape(1,96,248),axis=0)\n",
    "    kwargs = {'dtype':'f4', 'compression':'lzf'}\n",
    "    #     with h5py.File(output_path, 'w', libver='latest', swmr=True) as fout:\n",
    "\n",
    "    with h5py.File(output_name, 'w', libver='latest', swmr=True) as fout:\n",
    "        m = fout.create_group('info')\n",
    "        m.create_dataset('shape', data=[96, 248], dtype='i4')\n",
    "\n",
    "        g = fout.create_group('events')\n",
    "        g.create_dataset('trigID', data=all_trig, dtype='i4')\n",
    "        g.create_dataset('vtx', data=all_vtx, chunks=(1,3),dtype='f8')\n",
    "        g.create_dataset('timetag', data=times, chunks=(1,28), **kwargs)\n",
    "        g.create_dataset('high', data=pmts_high, chunks=(1, 96, 248), **kwargs)\n",
    "        g.create_dataset('low', data=pmts_low, chunks=(1, 96, 248), **kwargs)"
   ]
  },
  {
   "cell_type": "code",
   "execution_count": 11,
   "metadata": {},
   "outputs": [
    {
     "data": {
      "text/plain": [
       "(19124, 28, 8, 248)"
      ]
     },
     "execution_count": 11,
     "metadata": {},
     "output_type": "execute_result"
    }
   ],
   "source": [
    "waveform.shape"
   ]
  },
  {
   "cell_type": "code",
   "execution_count": 16,
   "metadata": {},
   "outputs": [
    {
     "data": {
      "text/plain": [
       "(96, 248)"
      ]
     },
     "execution_count": 16,
     "metadata": {},
     "output_type": "execute_result"
    }
   ],
   "source": [
    "pmt_low.shape"
   ]
  },
  {
   "cell_type": "code",
   "execution_count": 20,
   "metadata": {},
   "outputs": [
    {
     "data": {
      "image/png": "[encoded data removed]",
      "text/plain": [
       "<Figure size 432x288 with 1 Axes>"
      ]
     },
     "metadata": {
      "needs_background": "light"
     },
     "output_type": "display_data"
    }
   ],
   "source": [
    "plt.plot(pmt_high[0].T)\n",
    "plt.show()"
   ]
  },
  {
   "cell_type": "code",
   "execution_count": 21,
   "metadata": {},
   "outputs": [
    {
     "data": {
      "image/png": "[encoded data removed]",
      "text/plain": [
       "<Figure size 432x288 with 1 Axes>"
      ]
     },
     "metadata": {
      "needs_background": "light"
     },
     "output_type": "display_data"
    }
   ],
   "source": [
    "plt.plot(pmt_low[0].T)\n",
    "plt.show()"
   ]
  }
 ],
 "metadata": {
  "kernelspec": {
   "display_name": "Python 3 (ipykernel)",
   "language": "python",
   "name": "python3"
  },
  "language_info": {
   "codemirror_mode": {
    "name": "ipython",
    "version": 3
   },
   "file_extension": ".py",
   "mimetype": "text/x-python",
   "name": "python",
   "nbconvert_exporter": "python",
   "pygments_lexer": "ipython3",
   "version": "3.7.9"
  },
  "vscode": {
   "interpreter": {
    "hash": "baef765d7813c1ec5511fd712d4886cc83778ec6bab41554607ce7dda9fbbffb"
   }
  }
 },
 "nbformat": 4,
 "nbformat_minor": 4
}
