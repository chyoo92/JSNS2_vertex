{
 "cells": [
  {
   "cell_type": "code",
   "execution_count": 1,
   "metadata": {},
   "outputs": [],
   "source": [
    "import matplotlib.pyplot as plt\n",
    "import pandas as pd\n",
    "import os\n",
    "import numpy as np"
   ]
  },
  {
   "cell_type": "code",
   "execution_count": 2,
   "metadata": {},
   "outputs": [],
   "source": [
    "import glob\n",
    "uni = \"202211107\"\n",
    "\n",
    "path = \"/users/yewzzang/work/JSNS2_vertex/result/*\" + uni +\"*/train.csv\"\n",
    "train_path = glob.glob(path)\n",
    "train_list = [file for file in train_path if file.endswith(\".csv\")]\n",
    "\n",
    "\n",
    "\n",
    "\n",
    "# path = \"/users/yewzzang/work/HEPGNN_4top_resampling/result/*\"+uni +\"*/*\"+uni +\".csv\"\n",
    "# pred_path = glob.glob(path)\n",
    "# pred_list = [file for file in pred_path if file.endswith(\".csv\")]\n",
    "\n",
    "# path = \"/users/yewzzang/work/HEPGNN_4top_resampling/result/*\"+uni +\"*/*\"+uni +\"_feature.csv\"\n",
    "# feature_path = glob.glob(path)\n",
    "# feature_list = [file for file in feature_path if file.endswith(\".csv\")]\n",
    "\n",
    "# path = \"/users/yewzzang/work/HEPGNN_4top_resampling/result/*\"+uni +\"*/*\"+uni +\"_batch.csv\"\n",
    "# batch_path = glob.glob(path)\n",
    "# batch_list = [file for file in batch_path if file.endswith(\".csv\")]\n",
    "\n",
    "\n",
    "# path = \"/users/yewzzang/work/HEPGNN_4top/result/*\"+uni +\"*/*\"+uni +\"_btag.csv\"\n",
    "# btag_path = glob.glob(path)\n",
    "# btag_list = [file for file in btag_path if file.endswith(\".csv\")]\n",
    "\n",
    "\n",
    "d = train_list\n",
    "# dd = pred_list\n",
    "# ddd = feature_list\n",
    "# # dddd = pos_list\n",
    "# ddddd = batch_list\n",
    "# dddddd = btag_list"
   ]
  },
  {
   "cell_type": "code",
   "execution_count": 3,
   "metadata": {},
   "outputs": [],
   "source": [
    "plt.rcParams['lines.linewidth'] = 1\n",
    "plt.rcParams['lines.markersize'] = 5\n",
    "plt.rcParams[\"legend.loc\"] = 'upper right'\n",
    "plt.rcParams[\"legend.frameon\"] = False\n",
    "plt.rcParams[\"legend.loc\"] = 'upper left'"
   ]
  },
  {
   "cell_type": "code",
   "execution_count": 4,
   "metadata": {
    "scrolled": false
   },
   "outputs": [
    {
     "name": "stdout",
     "output_type": "stream",
     "text": [
      "202211107_model_6_3_20000_1024_all\n",
      "202211107_model_6_3_20000_2048_1to10\n",
      "202211107_model_6_3_20000_2048_1to10_1563\n",
      "202211107_model_6_3_20000_2048_1to10_1563_2\n",
      "202211107_model_6_3_20000_2048_1to10_cf\n",
      "202211107_model_6_3_20000_2048_1to10_cf_2\n",
      "202211107_model_6_3_20000_2048_all\n",
      "202211107_model_6_3_20000_256_all\n",
      "202211107_model_6_3_20000_512_1to10\n",
      "202211107_model_6_4_20000_1024_1to10\n",
      "202211107_model_6_4_20000_1024_all\n",
      "202211107_model_6_4_20000_512_1to10\n"
     ]
    }
   ],
   "source": [
    "for i in range(len(d)):\n",
    "    print(np.sort(np.array(d))[i].split('/')[-2])"
   ]
  },
  {
   "cell_type": "code",
   "execution_count": 15,
   "metadata": {},
   "outputs": [],
   "source": [
    "d = [\n",
    "\n",
    "    \n",
    "    '/users/yewzzang/work/JSNS2_vertex/result/20221122_homo_test/train.csv',\n",
    "    '/users/yewzzang/work/JSNS2_vertex/result/20221122_homo_test2/train.csv',\n",
    "    '/users/yewzzang/work/JSNS2_vertex/result/202211107_model_6_3_20000_2048_1to10/train.csv',\n",
    "\n",
    "    \n",
    "    \n",
    "    ]"
   ]
  },
  {
   "cell_type": "code",
   "execution_count": 16,
   "metadata": {
    "scrolled": false
   },
   "outputs": [
    {
     "name": "stdout",
     "output_type": "stream",
     "text": [
      "0 0.000619335586435 (array([5836]),) 0.0058010520160129 (array([529]),)\n"
     ]
    },
    {
     "ename": "FileNotFoundError",
     "evalue": "[Errno 2] No such file or directory: '/users/yewzzang/work/JSNS2_vertex/result/20221122_homo_test2/train.csv'",
     "output_type": "error",
     "traceback": [
      "\u001b[0;31m------------------------------------------------------------------------\u001b[0m",
      "\u001b[0;31mFileNotFoundError\u001b[0m                      Traceback (most recent call last)",
      "\u001b[0;32m<ipython-input-16-9debd7d77802>\u001b[0m in \u001b[0;36m<module>\u001b[0;34m\u001b[0m\n\u001b[1;32m     15\u001b[0m \u001b[0;34m\u001b[0m\u001b[0m\n\u001b[1;32m     16\u001b[0m \u001b[0;32mfor\u001b[0m \u001b[0mi\u001b[0m \u001b[0;32min\u001b[0m \u001b[0mrange\u001b[0m\u001b[0;34m(\u001b[0m\u001b[0mlen\u001b[0m\u001b[0;34m(\u001b[0m\u001b[0md\u001b[0m\u001b[0;34m)\u001b[0m\u001b[0;34m)\u001b[0m\u001b[0;34m:\u001b[0m\u001b[0;34m\u001b[0m\u001b[0;34m\u001b[0m\u001b[0m\n\u001b[0;32m---> 17\u001b[0;31m     \u001b[0mdf\u001b[0m \u001b[0;34m=\u001b[0m \u001b[0mpd\u001b[0m\u001b[0;34m.\u001b[0m\u001b[0mread_csv\u001b[0m\u001b[0;34m(\u001b[0m\u001b[0md\u001b[0m\u001b[0;34m[\u001b[0m\u001b[0mi\u001b[0m\u001b[0;34m]\u001b[0m\u001b[0;34m)\u001b[0m\u001b[0;34m\u001b[0m\u001b[0;34m\u001b[0m\u001b[0m\n\u001b[0m\u001b[1;32m     18\u001b[0m \u001b[0;34m\u001b[0m\u001b[0m\n\u001b[1;32m     19\u001b[0m \u001b[0;31m#     label = d[i].split('/')[-2].replace('__', ' ').split('_')[-2:]\u001b[0m\u001b[0;34m\u001b[0m\u001b[0;34m\u001b[0m\u001b[0;34m\u001b[0m\u001b[0m\n",
      "\u001b[0;32m~/.conda/envs/pytorch170_pyG/lib/python3.7/site-packages/pandas/io/parsers.py\u001b[0m in \u001b[0;36mread_csv\u001b[0;34m(filepath_or_buffer, sep, delimiter, header, names, index_col, usecols, squeeze, prefix, mangle_dupe_cols, dtype, engine, converters, true_values, false_values, skipinitialspace, skiprows, skipfooter, nrows, na_values, keep_default_na, na_filter, verbose, skip_blank_lines, parse_dates, infer_datetime_format, keep_date_col, date_parser, dayfirst, cache_dates, iterator, chunksize, compression, thousands, decimal, lineterminator, quotechar, quoting, doublequote, escapechar, comment, encoding, dialect, error_bad_lines, warn_bad_lines, delim_whitespace, low_memory, memory_map, float_precision, storage_options)\u001b[0m\n\u001b[1;32m    603\u001b[0m     \u001b[0mkwds\u001b[0m\u001b[0;34m.\u001b[0m\u001b[0mupdate\u001b[0m\u001b[0;34m(\u001b[0m\u001b[0mkwds_defaults\u001b[0m\u001b[0;34m)\u001b[0m\u001b[0;34m\u001b[0m\u001b[0;34m\u001b[0m\u001b[0m\n\u001b[1;32m    604\u001b[0m \u001b[0;34m\u001b[0m\u001b[0m\n\u001b[0;32m--> 605\u001b[0;31m     \u001b[0;32mreturn\u001b[0m \u001b[0m_read\u001b[0m\u001b[0;34m(\u001b[0m\u001b[0mfilepath_or_buffer\u001b[0m\u001b[0;34m,\u001b[0m \u001b[0mkwds\u001b[0m\u001b[0;34m)\u001b[0m\u001b[0;34m\u001b[0m\u001b[0;34m\u001b[0m\u001b[0m\n\u001b[0m\u001b[1;32m    606\u001b[0m \u001b[0;34m\u001b[0m\u001b[0m\n\u001b[1;32m    607\u001b[0m \u001b[0;34m\u001b[0m\u001b[0m\n",
      "\u001b[0;32m~/.conda/envs/pytorch170_pyG/lib/python3.7/site-packages/pandas/io/parsers.py\u001b[0m in \u001b[0;36m_read\u001b[0;34m(filepath_or_buffer, kwds)\u001b[0m\n\u001b[1;32m    455\u001b[0m \u001b[0;34m\u001b[0m\u001b[0m\n\u001b[1;32m    456\u001b[0m     \u001b[0;31m# Create the parser.\u001b[0m\u001b[0;34m\u001b[0m\u001b[0;34m\u001b[0m\u001b[0;34m\u001b[0m\u001b[0m\n\u001b[0;32m--> 457\u001b[0;31m     \u001b[0mparser\u001b[0m \u001b[0;34m=\u001b[0m \u001b[0mTextFileReader\u001b[0m\u001b[0;34m(\u001b[0m\u001b[0mfilepath_or_buffer\u001b[0m\u001b[0;34m,\u001b[0m \u001b[0;34m**\u001b[0m\u001b[0mkwds\u001b[0m\u001b[0;34m)\u001b[0m\u001b[0;34m\u001b[0m\u001b[0;34m\u001b[0m\u001b[0m\n\u001b[0m\u001b[1;32m    458\u001b[0m \u001b[0;34m\u001b[0m\u001b[0m\n\u001b[1;32m    459\u001b[0m     \u001b[0;32mif\u001b[0m \u001b[0mchunksize\u001b[0m \u001b[0;32mor\u001b[0m \u001b[0miterator\u001b[0m\u001b[0;34m:\u001b[0m\u001b[0;34m\u001b[0m\u001b[0;34m\u001b[0m\u001b[0m\n",
      "\u001b[0;32m~/.conda/envs/pytorch170_pyG/lib/python3.7/site-packages/pandas/io/parsers.py\u001b[0m in \u001b[0;36m__init__\u001b[0;34m(self, f, engine, **kwds)\u001b[0m\n\u001b[1;32m    812\u001b[0m             \u001b[0mself\u001b[0m\u001b[0;34m.\u001b[0m\u001b[0moptions\u001b[0m\u001b[0;34m[\u001b[0m\u001b[0;34m\"has_index_names\"\u001b[0m\u001b[0;34m]\u001b[0m \u001b[0;34m=\u001b[0m \u001b[0mkwds\u001b[0m\u001b[0;34m[\u001b[0m\u001b[0;34m\"has_index_names\"\u001b[0m\u001b[0;34m]\u001b[0m\u001b[0;34m\u001b[0m\u001b[0;34m\u001b[0m\u001b[0m\n\u001b[1;32m    813\u001b[0m \u001b[0;34m\u001b[0m\u001b[0m\n\u001b[0;32m--> 814\u001b[0;31m         \u001b[0mself\u001b[0m\u001b[0;34m.\u001b[0m\u001b[0m_engine\u001b[0m \u001b[0;34m=\u001b[0m \u001b[0mself\u001b[0m\u001b[0;34m.\u001b[0m\u001b[0m_make_engine\u001b[0m\u001b[0;34m(\u001b[0m\u001b[0mself\u001b[0m\u001b[0;34m.\u001b[0m\u001b[0mengine\u001b[0m\u001b[0;34m)\u001b[0m\u001b[0;34m\u001b[0m\u001b[0;34m\u001b[0m\u001b[0m\n\u001b[0m\u001b[1;32m    815\u001b[0m \u001b[0;34m\u001b[0m\u001b[0m\n\u001b[1;32m    816\u001b[0m     \u001b[0;32mdef\u001b[0m \u001b[0mclose\u001b[0m\u001b[0;34m(\u001b[0m\u001b[0mself\u001b[0m\u001b[0;34m)\u001b[0m\u001b[0;34m:\u001b[0m\u001b[0;34m\u001b[0m\u001b[0;34m\u001b[0m\u001b[0m\n",
      "\u001b[0;32m~/.conda/envs/pytorch170_pyG/lib/python3.7/site-packages/pandas/io/parsers.py\u001b[0m in \u001b[0;36m_make_engine\u001b[0;34m(self, engine)\u001b[0m\n\u001b[1;32m   1043\u001b[0m             )\n\u001b[1;32m   1044\u001b[0m         \u001b[0;31m# error: Too many arguments for \"ParserBase\"\u001b[0m\u001b[0;34m\u001b[0m\u001b[0;34m\u001b[0m\u001b[0;34m\u001b[0m\u001b[0m\n\u001b[0;32m-> 1045\u001b[0;31m         \u001b[0;32mreturn\u001b[0m \u001b[0mmapping\u001b[0m\u001b[0;34m[\u001b[0m\u001b[0mengine\u001b[0m\u001b[0;34m]\u001b[0m\u001b[0;34m(\u001b[0m\u001b[0mself\u001b[0m\u001b[0;34m.\u001b[0m\u001b[0mf\u001b[0m\u001b[0;34m,\u001b[0m \u001b[0;34m**\u001b[0m\u001b[0mself\u001b[0m\u001b[0;34m.\u001b[0m\u001b[0moptions\u001b[0m\u001b[0;34m)\u001b[0m  \u001b[0;31m# type: ignore[call-arg]\u001b[0m\u001b[0;34m\u001b[0m\u001b[0;34m\u001b[0m\u001b[0m\n\u001b[0m\u001b[1;32m   1046\u001b[0m \u001b[0;34m\u001b[0m\u001b[0m\n\u001b[1;32m   1047\u001b[0m     \u001b[0;32mdef\u001b[0m \u001b[0m_failover_to_python\u001b[0m\u001b[0;34m(\u001b[0m\u001b[0mself\u001b[0m\u001b[0;34m)\u001b[0m\u001b[0;34m:\u001b[0m\u001b[0;34m\u001b[0m\u001b[0;34m\u001b[0m\u001b[0m\n",
      "\u001b[0;32m~/.conda/envs/pytorch170_pyG/lib/python3.7/site-packages/pandas/io/parsers.py\u001b[0m in \u001b[0;36m__init__\u001b[0;34m(self, src, **kwds)\u001b[0m\n\u001b[1;32m   1860\u001b[0m \u001b[0;34m\u001b[0m\u001b[0m\n\u001b[1;32m   1861\u001b[0m         \u001b[0;31m# open handles\u001b[0m\u001b[0;34m\u001b[0m\u001b[0;34m\u001b[0m\u001b[0;34m\u001b[0m\u001b[0m\n\u001b[0;32m-> 1862\u001b[0;31m         \u001b[0mself\u001b[0m\u001b[0;34m.\u001b[0m\u001b[0m_open_handles\u001b[0m\u001b[0;34m(\u001b[0m\u001b[0msrc\u001b[0m\u001b[0;34m,\u001b[0m \u001b[0mkwds\u001b[0m\u001b[0;34m)\u001b[0m\u001b[0;34m\u001b[0m\u001b[0;34m\u001b[0m\u001b[0m\n\u001b[0m\u001b[1;32m   1863\u001b[0m         \u001b[0;32massert\u001b[0m \u001b[0mself\u001b[0m\u001b[0;34m.\u001b[0m\u001b[0mhandles\u001b[0m \u001b[0;32mis\u001b[0m \u001b[0;32mnot\u001b[0m \u001b[0;32mNone\u001b[0m\u001b[0;34m\u001b[0m\u001b[0;34m\u001b[0m\u001b[0m\n\u001b[1;32m   1864\u001b[0m         \u001b[0;32mfor\u001b[0m \u001b[0mkey\u001b[0m \u001b[0;32min\u001b[0m \u001b[0;34m(\u001b[0m\u001b[0;34m\"storage_options\"\u001b[0m\u001b[0;34m,\u001b[0m \u001b[0;34m\"encoding\"\u001b[0m\u001b[0;34m,\u001b[0m \u001b[0;34m\"memory_map\"\u001b[0m\u001b[0;34m,\u001b[0m \u001b[0;34m\"compression\"\u001b[0m\u001b[0;34m)\u001b[0m\u001b[0;34m:\u001b[0m\u001b[0;34m\u001b[0m\u001b[0;34m\u001b[0m\u001b[0m\n",
      "\u001b[0;32m~/.conda/envs/pytorch170_pyG/lib/python3.7/site-packages/pandas/io/parsers.py\u001b[0m in \u001b[0;36m_open_handles\u001b[0;34m(self, src, kwds)\u001b[0m\n\u001b[1;32m   1361\u001b[0m             \u001b[0mcompression\u001b[0m\u001b[0;34m=\u001b[0m\u001b[0mkwds\u001b[0m\u001b[0;34m.\u001b[0m\u001b[0mget\u001b[0m\u001b[0;34m(\u001b[0m\u001b[0;34m\"compression\"\u001b[0m\u001b[0;34m,\u001b[0m \u001b[0;32mNone\u001b[0m\u001b[0;34m)\u001b[0m\u001b[0;34m,\u001b[0m\u001b[0;34m\u001b[0m\u001b[0;34m\u001b[0m\u001b[0m\n\u001b[1;32m   1362\u001b[0m             \u001b[0mmemory_map\u001b[0m\u001b[0;34m=\u001b[0m\u001b[0mkwds\u001b[0m\u001b[0;34m.\u001b[0m\u001b[0mget\u001b[0m\u001b[0;34m(\u001b[0m\u001b[0;34m\"memory_map\"\u001b[0m\u001b[0;34m,\u001b[0m \u001b[0;32mFalse\u001b[0m\u001b[0;34m)\u001b[0m\u001b[0;34m,\u001b[0m\u001b[0;34m\u001b[0m\u001b[0;34m\u001b[0m\u001b[0m\n\u001b[0;32m-> 1363\u001b[0;31m             \u001b[0mstorage_options\u001b[0m\u001b[0;34m=\u001b[0m\u001b[0mkwds\u001b[0m\u001b[0;34m.\u001b[0m\u001b[0mget\u001b[0m\u001b[0;34m(\u001b[0m\u001b[0;34m\"storage_options\"\u001b[0m\u001b[0;34m,\u001b[0m \u001b[0;32mNone\u001b[0m\u001b[0;34m)\u001b[0m\u001b[0;34m,\u001b[0m\u001b[0;34m\u001b[0m\u001b[0;34m\u001b[0m\u001b[0m\n\u001b[0m\u001b[1;32m   1364\u001b[0m         )\n\u001b[1;32m   1365\u001b[0m \u001b[0;34m\u001b[0m\u001b[0m\n",
      "\u001b[0;32m~/.conda/envs/pytorch170_pyG/lib/python3.7/site-packages/pandas/io/common.py\u001b[0m in \u001b[0;36mget_handle\u001b[0;34m(path_or_buf, mode, encoding, compression, memory_map, is_text, errors, storage_options)\u001b[0m\n\u001b[1;32m    642\u001b[0m                 \u001b[0mencoding\u001b[0m\u001b[0;34m=\u001b[0m\u001b[0mioargs\u001b[0m\u001b[0;34m.\u001b[0m\u001b[0mencoding\u001b[0m\u001b[0;34m,\u001b[0m\u001b[0;34m\u001b[0m\u001b[0;34m\u001b[0m\u001b[0m\n\u001b[1;32m    643\u001b[0m                 \u001b[0merrors\u001b[0m\u001b[0;34m=\u001b[0m\u001b[0merrors\u001b[0m\u001b[0;34m,\u001b[0m\u001b[0;34m\u001b[0m\u001b[0;34m\u001b[0m\u001b[0m\n\u001b[0;32m--> 644\u001b[0;31m                 \u001b[0mnewline\u001b[0m\u001b[0;34m=\u001b[0m\u001b[0;34m\"\"\u001b[0m\u001b[0;34m,\u001b[0m\u001b[0;34m\u001b[0m\u001b[0;34m\u001b[0m\u001b[0m\n\u001b[0m\u001b[1;32m    645\u001b[0m             )\n\u001b[1;32m    646\u001b[0m         \u001b[0;32melse\u001b[0m\u001b[0;34m:\u001b[0m\u001b[0;34m\u001b[0m\u001b[0;34m\u001b[0m\u001b[0m\n",
      "\u001b[0;31mFileNotFoundError\u001b[0m: [Errno 2] No such file or directory: '/users/yewzzang/work/JSNS2_vertex/result/20221122_homo_test2/train.csv'"
     ]
    },
    {
     "data": {
      "image/png": "[encoded data removed]",
      "text/plain": [
       "<Figure size 720x720 with 2 Axes>"
      ]
     },
     "metadata": {
      "needs_background": "light"
     },
     "output_type": "display_data"
    }
   ],
   "source": [
    "plt.rcParams['figure.figsize'] = (10, 10)\n",
    "# plt.rcParams['figure.figsize'] = (10, 10)\n",
    "ax1 = plt.subplot(2, 2, 1, yscale='log', ylabel='Loss(train)', xlabel='epoch')\n",
    "ax2 = plt.subplot(2, 2, 2, yscale='log', ylabel='Loss(val)', xlabel='epoch')\n",
    "# ax1 = plt.subplot(2, 2, 1,  ylabel='Loss(train)', xlabel='epoch')\n",
    "# ax2 = plt.subplot(2, 2, 2,  ylabel='Loss(val)', xlabel='epoch')\n",
    "\n",
    "\n",
    "for ax in (ax1, ax2):\n",
    "    ax.grid(which='major', axis='both', linestyle='-.')\n",
    "    ax.grid(which='minor', linestyle=':')\n",
    "    ax.set_xlim([0,20000])\n",
    "        \n",
    "lines, labels = [], []\n",
    "\n",
    "for i in range(len(d)):\n",
    "    df = pd.read_csv(d[i])\n",
    "\n",
    "#     label = d[i].split('/')[-2].replace('__', ' ').split('_')[-2:]\n",
    "    label = d[i]\n",
    "    l =  ax1.plot(df['loss'], linewidth=2) \n",
    "    ax2.plot(df['val_loss'], linewidth=2)\n",
    "    \n",
    "    print(i,df['loss'].min(),np.where(df['loss']==df['loss'].min()),df['val_loss'].min(),np.where(df['val_loss']==df['val_loss'].min()))\n",
    "\n",
    "\n",
    "\n",
    "    \n",
    "    lines.append(l[0])\n",
    "    labels.append(label)\n",
    "ax5 = plt.subplot(3,1,3)\n",
    "# ax5.legend(lines, labels)\n",
    "ax5.legend(lines, labels, bbox_to_anchor=(1.1, -4, 7, 7), fontsize = 10)\n",
    "ax5.axis('off')\n",
    "plt.tight_layout()\n",
    "# plt.savefig('acc_loss.png',dpi=300)\n",
    "plt.show()\n",
    "plt.close()"
   ]
  },
  {
   "cell_type": "code",
   "execution_count": 7,
   "metadata": {},
   "outputs": [
    {
     "data": {
      "text/plain": [
       "['/users/yewzzang/work/JSNS2_vertex/result/20221122_homo_test/train.csv',\n",
       " '/users/yewzzang/work/JSNS2_vertex/result/202211107_model_6_3_20000_2048_1to10/train.csv']"
      ]
     },
     "execution_count": 7,
     "metadata": {},
     "output_type": "execute_result"
    }
   ],
   "source": [
    "d"
   ]
  },
  {
   "cell_type": "code",
   "execution_count": 8,
   "metadata": {
    "scrolled": false
   },
   "outputs": [
    {
     "ename": "NameError",
     "evalue": "name 'dd' is not defined",
     "output_type": "error",
     "traceback": [
      "\u001b[0;31m------------------------------------------------------------------------\u001b[0m",
      "\u001b[0;31mNameError\u001b[0m                              Traceback (most recent call last)",
      "\u001b[0;32m<ipython-input-8-053463b35865>\u001b[0m in \u001b[0;36m<module>\u001b[0;34m\u001b[0m\n\u001b[1;32m      4\u001b[0m \u001b[0;31m#plt.yscale('log')\u001b[0m\u001b[0;34m\u001b[0m\u001b[0;34m\u001b[0m\u001b[0;34m\u001b[0m\u001b[0m\n\u001b[1;32m      5\u001b[0m \u001b[0mplt\u001b[0m\u001b[0;34m.\u001b[0m\u001b[0mfigure\u001b[0m\u001b[0;34m(\u001b[0m\u001b[0mfigsize\u001b[0m\u001b[0;34m=\u001b[0m\u001b[0;34m(\u001b[0m\u001b[0;36m10\u001b[0m\u001b[0;34m,\u001b[0m\u001b[0;36m10\u001b[0m\u001b[0;34m)\u001b[0m\u001b[0;34m)\u001b[0m\u001b[0;34m\u001b[0m\u001b[0;34m\u001b[0m\u001b[0m\n\u001b[0;32m----> 6\u001b[0;31m \u001b[0;32mfor\u001b[0m \u001b[0mi\u001b[0m \u001b[0;32min\u001b[0m \u001b[0mrange\u001b[0m\u001b[0;34m(\u001b[0m\u001b[0mlen\u001b[0m\u001b[0;34m(\u001b[0m\u001b[0mdd\u001b[0m\u001b[0;34m)\u001b[0m\u001b[0;34m)\u001b[0m\u001b[0;34m:\u001b[0m\u001b[0;34m\u001b[0m\u001b[0;34m\u001b[0m\u001b[0m\n\u001b[0m\u001b[1;32m      7\u001b[0m     \u001b[0mdf\u001b[0m \u001b[0;34m=\u001b[0m \u001b[0mpd\u001b[0m\u001b[0;34m.\u001b[0m\u001b[0mread_csv\u001b[0m\u001b[0;34m(\u001b[0m\u001b[0mdd\u001b[0m\u001b[0;34m[\u001b[0m\u001b[0mi\u001b[0m\u001b[0;34m]\u001b[0m\u001b[0;34m)\u001b[0m\u001b[0;34m\u001b[0m\u001b[0;34m\u001b[0m\u001b[0m\n\u001b[1;32m      8\u001b[0m \u001b[0;31m#     df2 = pd.read_csv(ddd[i])\u001b[0m\u001b[0;34m\u001b[0m\u001b[0;34m\u001b[0m\u001b[0;34m\u001b[0m\u001b[0m\n",
      "\u001b[0;31mNameError\u001b[0m: name 'dd' is not defined"
     ]
    },
    {
     "data": {
      "text/plain": [
       "<Figure size 720x720 with 0 Axes>"
      ]
     },
     "metadata": {},
     "output_type": "display_data"
    }
   ],
   "source": [
    "from sklearn.metrics import roc_curve, roc_auc_score\n",
    "\n",
    "\n",
    "#plt.yscale('log')\n",
    "plt.figure(figsize=(10,10))\n",
    "for i in range(len(dd)):\n",
    "    df = pd.read_csv(dd[i])\n",
    "#     df2 = pd.read_csv(ddd[i])\n",
    "    tpr, fpr, thr = roc_curve(df['label'], df['prediction'], sample_weight=df['scale']*df['weight'], pos_label=0)\n",
    "    try:\n",
    "        auc = roc_auc_score(df['label'], df['prediction'], sample_weight=df['scale']*df['weight'])\n",
    "    except:\n",
    "        aaa = 0 \n",
    "        for j in range(len(fpr)):\n",
    "            if j == 0:\n",
    "                aa = tpr[j]*(fpr[j]-0)\n",
    "            else:\n",
    "                aa = tpr[j]*(fpr[j]-fpr[j-1])\n",
    "            aaa = aaa + aa\n",
    "        auc = aaa\n",
    "\n",
    "\n",
    "\n",
    "#     plt.plot(fpr, tpr, label=dd[i].split('/')[-2].replace('__', ' ')+'  AUC = %.3f' % (auc))\n",
    "#     lab = d[i].split('/')[-2].replace('__', ' ')\n",
    "    label = dd[i]\n",
    "    plt.plot(fpr, tpr, label='AUC = %.3f' % (auc) + '   ' , linewidth='2')\n",
    "#     plt.plot(fpr, tpr, linewidth='2')\n",
    " \n",
    "        \n",
    "        \n",
    "    plt.xlabel('FN efficiency')\n",
    "    plt.ylabel('ME efficiency')\n",
    "    #plt.xlim(0, 0.001)\n",
    "    plt.xlim(0, 1.000)\n",
    "    plt.ylim(0, 1.050)\n",
    "    plt.legend(loc = 'lower right',fontsize=20)\n",
    "#     plt.legend(bbox_to_anchor=(1.1, -14, 15, 15))\n",
    "    # plt.savefig('result/' +args.output + '/' + args.output + '_efficiency.png', dpi=300)\n",
    "    plt.grid()\n",
    "#     plt.show()\n",
    "\n",
    "  \n",
    "\n"
   ]
  },
  {
   "cell_type": "code",
   "execution_count": null,
   "metadata": {},
   "outputs": [],
   "source": []
  },
  {
   "cell_type": "code",
   "execution_count": null,
   "metadata": {
    "scrolled": false
   },
   "outputs": [],
   "source": [
    "\n",
    "##### Draw ROC curve #####\n",
    "from sklearn.metrics import roc_curve, roc_auc_score\n",
    "df = pd.read_csv(dd[0])\n",
    "df['scaledWeight'] = df['weight']*df['scale']\n",
    "tpr, fpr, thr = roc_curve(df['label'], df['prediction'], sample_weight=df['scaledWeight'], pos_label=0)\n",
    "try:\n",
    "    auc = roc_auc_score(df['label'], df['prediction'], sample_weight=df['scaledWeight'])\n",
    "except:\n",
    "    auc = 1\n",
    "\n",
    "df_bkg = df[df.label==0]\n",
    "df_sig = df[df.label==1]\n",
    "\n",
    "plt.hist(df_bkg['prediction']*100, histtype='step', \n",
    "         weights=df_bkg['scaledWeight'], density = 'True', \n",
    "         bins=50, alpha=0.7, color='red', \n",
    "         label='QCD', linewidth=3)\n",
    "plt.hist(df_sig['prediction']*100, histtype='step', \n",
    "         weights=df_sig['scaledWeight'], density = 'True', \n",
    "         bins=50, alpha=0.7, color='blue', \n",
    "         label='4top', linewidth=3)\n",
    "\n",
    "plt.xticks(np.arange(0, 101, step=20),[\"{}\".format(x*0.01) for x in np.arange(0, 101,step=20)],fontsize = 20)\n",
    "plt.yticks(fontsize = 20)\n",
    "plt.xlim(0, 100)\n",
    "\n",
    "#plt.yscale('log')\n",
    "plt.ylabel('Events')\n",
    "plt.legend(loc = 'upper center')\n",
    "# plt.savefig('result/' + output + '/' + output + '_Events.png', dpi=300)\n",
    "plt.show()\n",
    "plt.clf()\n",
    "################################################################\n",
    "plt.hist(df_bkg['prediction']*100, histtype='step', weights=df_bkg['scaledWeight'], bins=50, alpha=0.7, color='red', label='Bkg', linewidth=3)\n",
    "plt.hist(df_sig['prediction']*100, histtype='step', weights=df_sig['scaledWeight'], bins=50, alpha=0.7, color='blue', label='Sig', linewidth=3)\n",
    "\n",
    "plt.xticks(np.arange(0, 101, step=20),[\"{}\".format(x*0.01) for x in np.arange(0, 101,step=20)],fontsize = 20)\n",
    "plt.yticks(fontsize = 20)\n",
    "plt.xlim(0, 100)\n",
    "\n",
    "\n",
    "#plt.yscale('log')\n",
    "plt.ylabel('Events')\n",
    "plt.legend(loc = 'upper center')\n",
    "# plt.savefig('result/' + output + '/' + output + '_Events.png', dpi=300)\n",
    "plt.show()\n",
    "plt.clf()\n",
    "\n",
    "################################################################################\n",
    "\n",
    "# plt.plot(fpr, tpr, '.-', label='AUC = ' + '%s %f' % (auc, lab))\n",
    "plt.plot(fpr, tpr, label='AUC = %.3f' % (auc) + '   ' , linewidth='2')\n",
    " \n",
    "plt.xlabel('Bkg')\n",
    "plt.ylabel('Sig')\n",
    "#plt.xlim(0, 0.001)\n",
    "plt.xlim(0, 1.000)\n",
    "plt.ylim(0, 1.000)\n",
    "plt.legend(loc = 'lower center')\n",
    "# plt.savefig('result/' +output + '/' + output + '_efficiency.png', dpi=300)\n",
    "plt.grid()\n",
    "plt.show()\n",
    "plt.clf()\n",
    "\n"
   ]
  },
  {
   "cell_type": "code",
   "execution_count": null,
   "metadata": {},
   "outputs": [],
   "source": [
    "###### max pt\n",
    "df3 = pd.read_csv(ddd[0])\n",
    "df4 = pd.read_csv(ddddd[0])\n",
    "df4 = np.array(df4)\n",
    "df3 = np.array(df3).reshape(-1,4)  ## pt / eta / phi / mass\n",
    "#### 각 batch 안에서 최대 max pt의 feature들 뽑기\n",
    "a = 0\n",
    "max_pt_features = []\n",
    "for i in range(len(df4)):\n",
    "    max_pt = df3[a:a+df4[i][0]].max()\n",
    "    aaaa = np.where(max_pt)\n",
    "    max_pt_jet = df3[a+aaaa[0]]\n",
    "    max_pt_features.append(max_pt_jet)\n",
    "    a += df4[i][0]\n"
   ]
  },
  {
   "cell_type": "code",
   "execution_count": null,
   "metadata": {},
   "outputs": [],
   "source": [
    "df"
   ]
  },
  {
   "cell_type": "code",
   "execution_count": null,
   "metadata": {},
   "outputs": [],
   "source": [
    "np.array(max_pt_features)[np.array(df['label']==1)][:,:,0].shape"
   ]
  },
  {
   "cell_type": "code",
   "execution_count": null,
   "metadata": {},
   "outputs": [],
   "source": [
    "np.array(max_pt_features)[:,:,0].shape"
   ]
  },
  {
   "cell_type": "code",
   "execution_count": null,
   "metadata": {},
   "outputs": [],
   "source": [
    "plt.figure(figsize=(10,10))\n",
    "df = pd.read_csv(dd[0])\n",
    "ax1 = plt.subplot(3, 2, 1, title = 'Jet Pt')\n",
    "ax2 = plt.subplot(3, 2, 2, title = \"resampled/origin\")\n",
    "ax3 = plt.subplot(3, 2, 3, title = \"resampled/no weight\")\n",
    "ax4 = plt.subplot(3, 2, 4, title = \"origin/no weight\")\n",
    "ns0, bins0, patches1 = ax1.hist(np.array(max_pt_features)[np.array(df['label']==1)][:,:,0], \n",
    "             density=False, bins=np.arange(0,2500,step=25), log=True,\n",
    "             color='orange',label='no weight') \n",
    "ns1, bins1, patches1 = ax1.hist(np.array(max_pt_features)[np.array(df['label']==1)][:,:,0], histtype='step', \n",
    "             density=False, bins=np.arange(0,2500,step=25), log=True,\n",
    "             color='blue',label='resampled weight',\n",
    "             weights = np.array(df['weight'][np.array(df['label']==1)]).reshape(-1,1))\n",
    "ns2, bins2, patches2 = ax1.hist(np.array(max_pt_features)[np.array(df['label']==1)][:,:,0], histtype='step', \n",
    "             density=False, bins=np.arange(0,2500,step=25), log=True,\n",
    "             color='red',label='origin weight',\n",
    "             weights = np.array(df['real_weight'][np.array(df['label']==1)]).reshape(-1,1)) \n",
    "\n",
    "ax2.bar(bins0[1:], ns1/ns2,width=25)\n",
    "ax3.bar(bins0[1:], ns1/ns0,width=25)\n",
    "ax4.bar(bins0[1:], ns2/ns0,width=25)\n",
    "ax1.set_xlim([0,2500])\n",
    "ax2.set_xlim([0,2500])\n",
    "ax3.set_xlim([0,2500])\n",
    "ax4.set_xlim([0,2500])\n",
    "\n",
    "\n",
    "ax1.legend(loc='best')\n",
    "\n",
    "plt.show()\n"
   ]
  },
  {
   "cell_type": "code",
   "execution_count": null,
   "metadata": {},
   "outputs": [],
   "source": [
    "#     max_eta_feature = \n",
    "plt.figure(figsize=(10,10))\n",
    "df = pd.read_csv(dd[0])\n",
    "ax1 = plt.subplot(3, 2, 1, title = 'Jet eta')\n",
    "ax2 = plt.subplot(3, 2, 2, title = \"resampled/origin\")\n",
    "ax3 = plt.subplot(3, 2, 3, title = \"resampled/no weight\")\n",
    "ax4 = plt.subplot(3, 2, 4, title = \"origin/no weight\")\n",
    "ns0, bins0, patches1 = ax1.hist(np.array(max_pt_features)[np.array(df['label']==1)][:,:,1], \n",
    "             density=False, bins=np.arange(-6,6,step=0.2), log=True,\n",
    "             color='orange',label='no weight') \n",
    "ns1, bins1, patches1 = ax1.hist(np.array(max_pt_features)[np.array(df['label']==1)][:,:,1], histtype='step', \n",
    "             density=False, bins=np.arange(-6,6,step=0.2), log=True,\n",
    "             color='blue',label='resampled weight',\n",
    "             weights = np.array(df['weight'][np.array(df['label']==1)]).reshape(-1,1))\n",
    "ns2, bins2, patches2 = ax1.hist(np.array(max_pt_features)[np.array(df['label']==1)][:,:,1], histtype='step', \n",
    "             density=False, bins=np.arange(-6,6,step=0.2), log=True,\n",
    "             color='red',label='origin weight',\n",
    "             weights = np.array(df['real_weight'][np.array(df['label']==1)]).reshape(-1,1)) \n",
    "\n",
    "ax2.bar(bins0[1:], (ns1/ns2),width=0.2)\n",
    "ax3.bar(bins0[1:], (ns1/ns0),width=0.2)\n",
    "ax4.bar(bins0[1:], (ns2/ns0),width=0.2)\n",
    "ax1.set_xlim([-6,6])\n",
    "ax2.set_xlim([-6,6])\n",
    "# ax2.set_ylim([-6,6])\n",
    "ax3.set_xlim([-6,6])\n",
    "ax4.set_xlim([-6,6])\n",
    "\n",
    "\n",
    "\n",
    "ax1.legend(loc='best')\n",
    "\n",
    "plt.show()"
   ]
  },
  {
   "cell_type": "code",
   "execution_count": null,
   "metadata": {},
   "outputs": [],
   "source": [
    "#     max_eta_feature = \n",
    "plt.figure(figsize=(10,10))\n",
    "df = pd.read_csv(dd[0])\n",
    "ax1 = plt.subplot(3, 2, 1, title = 'Jet phi')\n",
    "ax2 = plt.subplot(3, 2, 2, title = \"resampled/origin\")\n",
    "ax3 = plt.subplot(3, 2, 3, title = \"resampled/no weight\")\n",
    "ax4 = plt.subplot(3, 2, 4, title = \"origin/no weight\")\n",
    "ns0, bins0, patches1 = ax1.hist(np.array(max_pt_features)[np.array(df['label']==1)][:,:,2], \n",
    "             density=False, bins=np.arange(-5,5,step=0.2), log=True,\n",
    "             color='orange',label='no weight') \n",
    "ns1, bins1, patches1 = ax1.hist(np.array(max_pt_features)[np.array(df['label']==1)][:,:,2], histtype='step', \n",
    "             density=False, bins=np.arange(-5,5,step=0.2), log=True,\n",
    "             color='blue',label='resampled weight',\n",
    "             weights = np.array(df['weight'][np.array(df['label']==1)]).reshape(-1,1))\n",
    "ns2, bins2, patches2 = ax1.hist(np.array(max_pt_features)[np.array(df['label']==1)][:,:,2], histtype='step', \n",
    "             density=False, bins=np.arange(-5,5,step=0.2), log=True,\n",
    "             color='red',label='origin weight',\n",
    "             weights = np.array(df['real_weight'][np.array(df['label']==1)]).reshape(-1,1)) \n",
    "\n",
    "ax2.bar(bins0[1:], (ns1/ns2),width=0.2)\n",
    "ax3.bar(bins0[1:], (ns1/ns0),width=0.2)\n",
    "ax4.bar(bins0[1:], (ns2/ns0),width=0.2)\n",
    "ax1.set_xlim([-5,5])\n",
    "ax2.set_xlim([-5,5])\n",
    "ax3.set_xlim([-5,5])\n",
    "ax4.set_xlim([-5,5])\n",
    "\n",
    "\n",
    "\n",
    "ax1.legend(loc='best')\n",
    "\n",
    "plt.show()"
   ]
  },
  {
   "cell_type": "code",
   "execution_count": null,
   "metadata": {},
   "outputs": [],
   "source": [
    "#     max_eta_feature = \n",
    "plt.figure(figsize=(10,10))\n",
    "df = pd.read_csv(dd[0])\n",
    "ax1 = plt.subplot(3, 2, 1, title = 'Jet Mass')\n",
    "ax2 = plt.subplot(3, 2, 2, title = \"resampled/origin\")\n",
    "ax3 = plt.subplot(3, 2, 3, title = \"resampled/no weight\")\n",
    "ax4 = plt.subplot(3, 2, 4, title = \"origin/no weight\")\n",
    "ns0, bins0, patches1 = ax1.hist(np.array(max_pt_features)[np.array(df['label']==1)][:,:,3], \n",
    "             density=False, bins=np.arange(0,500,step=5), log=True,\n",
    "             color='orange',label='no weight') \n",
    "ns1, bins1, patches1 = ax1.hist(np.array(max_pt_features)[np.array(df['label']==1)][:,:,3], histtype='step', \n",
    "             density=False, bins=np.arange(0,500,step=5), log=True,\n",
    "             color='blue',label='resampled weight',\n",
    "             weights = np.array(df['weight'][np.array(df['label']==1)]).reshape(-1,1))\n",
    "ns2, bins2, patches2 = ax1.hist(np.array(max_pt_features)[np.array(df['label']==1)][:,:,3], histtype='step', \n",
    "             density=False, bins=np.arange(0,500,step=5), log=True,\n",
    "             color='red',label='origin weight',\n",
    "             weights = np.array(df['real_weight'][np.array(df['label']==1)]).reshape(-1,1)) \n",
    "\n",
    "ax2.bar(bins0[1:], (ns1/ns2),width=5)\n",
    "ax3.bar(bins0[1:], (ns1/ns0),width=5)\n",
    "ax4.bar(bins0[1:], (ns2/ns0),width=5)\n",
    "ax1.set_xlim([0,500])\n",
    "ax2.set_xlim([0,500])\n",
    "ax3.set_xlim([0,500])\n",
    "ax4.set_xlim([0,500])\n",
    "\n",
    "\n",
    "\n",
    "ax1.legend(loc='best')\n",
    "\n",
    "plt.show()"
   ]
  },
  {
   "cell_type": "code",
   "execution_count": null,
   "metadata": {},
   "outputs": [],
   "source": [
    "#     max_eta_feature = \n",
    "plt.figure(figsize=(10,10))\n",
    "df = pd.read_csv(dd[0])\n",
    "ax1 = plt.subplot(3, 2, 1, title = 'Jet Njets')\n",
    "ax2 = plt.subplot(3, 2, 2, title = \"resampled/origin\")\n",
    "ax3 = plt.subplot(3, 2, 3, title = \"resampled/no weight\")\n",
    "ax4 = plt.subplot(3, 2, 4, title = \"origin/no weight\")\n",
    "ns0, bins0, patches1 = ax1.hist(np.array(df4)[np.array(df['label']==1)], \n",
    "             density=False, bins=np.arange(30), log=True,\n",
    "             color='orange',label='no weight') \n",
    "ns1, bins1, patches1 = ax1.hist(np.array(df4)[np.array(df['label']==1)], histtype='step', \n",
    "             density=False, bins=np.arange(30), log=True,\n",
    "             color='blue',label='resampled weight',\n",
    "             weights = np.array(df['weight'][np.array(df['label']==1)]).reshape(-1,1))\n",
    "ns2, bins2, patches2 = ax1.hist(np.array(df4)[np.array(df['label']==1)], histtype='step', \n",
    "             density=False, bins=np.arange(30), log=True,\n",
    "             color='red',label='origin weight',\n",
    "             weights = np.array(df['real_weight'][np.array(df['label']==1)]).reshape(-1,1)) \n",
    "\n",
    "ax2.bar(bins0[1:], (ns1/ns2),width=1)\n",
    "ax3.bar(bins0[1:], (ns1/ns0),width=1)\n",
    "ax4.bar(bins0[1:], (ns2/ns0),width=1)\n",
    "# ax1.set_xlim([-1,31])\n",
    "ax2.set_xlim([-1,31])\n",
    "ax3.set_xlim([-1,31])\n",
    "ax4.set_xlim([-1,31])\n",
    "\n",
    "\n",
    "\n",
    "ax1.legend(loc='best')\n",
    "\n",
    "plt.show()"
   ]
  },
  {
   "cell_type": "code",
   "execution_count": null,
   "metadata": {},
   "outputs": [],
   "source": [
    "#### 각 batch 안에서 btag sum\n",
    "## df4 -> batch(njet)\n",
    "## df5 -> btag\n",
    "df5 = pd.read_csv(dddddd[0])\n",
    "df5 = np.array(df5)\n",
    "a = 0\n",
    "num_btag = []\n",
    "for i in range(len(df4)):\n",
    "    btag = df5[a:a+df4[i][0]]\n",
    "\n",
    "    sum_btag = btag.sum()\n",
    " \n",
    "    \n",
    "    num_btag.append(sum_btag)\n",
    "    a += df4[i][0]\n",
    "\n",
    "    \n",
    "#     max_eta_feature = "
   ]
  },
  {
   "cell_type": "code",
   "execution_count": null,
   "metadata": {},
   "outputs": [],
   "source": [
    "dddddd"
   ]
  },
  {
   "cell_type": "code",
   "execution_count": null,
   "metadata": {},
   "outputs": [],
   "source": []
  },
  {
   "cell_type": "code",
   "execution_count": null,
   "metadata": {},
   "outputs": [],
   "source": []
  },
  {
   "cell_type": "code",
   "execution_count": null,
   "metadata": {},
   "outputs": [],
   "source": []
  }
 ],
 "metadata": {
  "kernelspec": {
   "display_name": "Python 3",
   "language": "python",
   "name": "python3"
  },
  "language_info": {
   "codemirror_mode": {
    "name": "ipython",
    "version": 3
   },
   "file_extension": ".py",
   "mimetype": "text/x-python",
   "name": "python",
   "nbconvert_exporter": "python",
   "pygments_lexer": "ipython3",
   "version": "3.7.9"
  }
 },
 "nbformat": 4,
 "nbformat_minor": 4
}
