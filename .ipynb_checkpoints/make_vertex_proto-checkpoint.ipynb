{
 "cells": [
  {
   "cell_type": "code",
   "execution_count": 1,
   "metadata": {},
   "outputs": [],
   "source": [
    "import uproot\n",
    "import numpy as np\n",
    "import matplotlib.pyplot as plt\n",
    "import h5py"
   ]
  },
  {
   "cell_type": "code",
   "execution_count": null,
   "metadata": {},
   "outputs": [],
   "source": []
  },
  {
   "cell_type": "code",
   "execution_count": 2,
   "metadata": {},
   "outputs": [],
   "source": [
    "\n",
    "\n",
    "# MT,HG,ch,LG,ch\n",
    "PMTs = np.array([[0,4,1,16,1],[1,4,2,16,2],[2,4,3,16,3],[3,4,4,16,4],\n",
    "[4,4,5,16,5],[5,3,3,15,3],[6,3,4,15,4],[7,3,5,15,5],\n",
    "[8,5,0,17,0],[9,5,1,17,1],[10,4,6,16,6],[11,4,7,16,7],\n",
    "[12,6,0,18,0],[13,6,1,18,1],[14,6,2,18,2],[15,1,6,13,6],\n",
    "[16,1,7,13,7],[17,7,0,19,0],[18,7,1,19,1],[19,7,2,19,2],\n",
    "[20,7,3,19,3],[21,7,4,19,4],[22,7,5,19,5],[23,7,6,19,6],\n",
    "[24,5,2,17,2],[25,5,3,17,3],[26,5,4,17,4],[27,8,0,20,0],\n",
    "[28,9,0,21,0],[29,9,1,21,1],[30,3,6,15,6],[31,3,7,15,7],\n",
    "[32,7,7,19,7],[33,5,5,17,5],[34,5,6,17,6],[35,5,7,17,7],\n",
    "[36,6,3,18,3],[37,6,4,18,4],[38,6,5,18,5],[39,6,6,18,6],\n",
    "[40,6,7,18,7],[41,10,0,22,0],[42,10,1,22,1],[43,10,2,22,2],\n",
    "[44,10,3,22,3],[45,10,4,22,4],[46,10,5,22,5],[47,10,6,22,6],\n",
    "[48,8,1,20,1],[49,8,2,20,2],[50,8,3,20,3],[51,8,4,20,4],\n",
    "[52,9,2,21,2],[53,9,3,21,3],[54,9,4,21,4],[55,9,5,21,5],\n",
    "[56,10,7,22,7],[57,8,5,20,5],[58,8,6,20,6],[59,8,7,20,7],\n",
    "[60,1,0,13,0],[61,1,1,13,1],[62,1,2,13,2],[63,1,3,13,3],\n",
    "[64,3,0,15,0],[65,1,4,13,4],[66,2,0,14,0],[67,2,1,14,1],\n",
    "[68,2,2,14,2],[69,1,5,13,5],[70,4,0,16,0],[71,2,3,14,3],\n",
    "[72,2,4,14,4],[73,3,1,15,1],[74,3,2,15,2],[75,2,5,14,5],\n",
    "[76,2,6,14,6],[77,2,7,14,7],[78,12,0,24,0],[79,12,1,24,1],\n",
    "[80,12,2,24,2],[81,12,3,24,3],[82,12,4,24,4],[83,12,5,24,5],\n",
    "[84,11,0,23,0],[85,11,1,23,1],[86,11,2,23,2],[87,11,3,23,3],\n",
    "[88,11,4,23,4],[89,9,6,21,6],[90,9,7,21,7],[91,12,6,24,6],\n",
    "[92,12,7,24,7],[93,11,5,23,5],[94,11,6,23,6],[95,11,7,23,7]])"
   ]
  },
  {
   "cell_type": "code",
   "execution_count": 5,
   "metadata": {},
   "outputs": [],
   "source": [
    "pmt_pos = np.array([[0,1709.18,-707.96,1200.0],[1,1126.21,-1467.7,1200.0],[2,241.47,-1834.17,1200.0],[3,-707.96,-1709.18,1200.0],\n",
    "[4,-1467.7,-1126.21,1200.0],[5,-1834.17,-241.47,1200.0],[6,-1709.18,707.96,1200.0],[7,-1126.21,1467.7,1200.0],\n",
    "[8,-241.48,1834.17,1200.0],[9,707.96,1709.18,1200.0],[10,1467.7,1126.21,1200.0],[11,1834.17,241.48,1200.0],\n",
    "[12,1709.18,-707.96,600.0],[13,1126.21,-1467.7,600.0],[14,241.47,-1834.17,600.0],[15,-707.96,-1709.18,600.0],\n",
    "[16,-1467.7,-1126.21,600.0],[17,-1834.17,-241.47,600.0],[18,-1709.18,707.96,600.0],[19,-1126.21,1467.7,600.0],\n",
    "[20,-241.48,1834.17,600.0],[21,707.96,1709.18,600.0],[22,1467.7,1126.21,600.0],[23,1834.17,241.48,600.0],\n",
    "[24,1709.18,-707.96,0.0],[25,1126.21,-1467.7,0.0],[26,241.47,-1834.17,0.0],[27,-707.96,-1709.18,0.0],\n",
    "[28,-1467.7,-1126.21,0.0],[29,-1834.17,-241.47,0.0],[30,-1709.18,707.96,0.0],[31,-1126.21,1467.7,0.0],\n",
    "[32,-241.48,1834.17,0.0],[33,707.96,1709.18,0.0],[34,1467.7,1126.21,0.0],[35,1834.17,241.48,0.0],\n",
    "[36,1709.18,-707.96,-600.0],[37,1126.21,-1467.7,-600.0],[38,241.47,-1834.17,-600.0],[39,-707.96,-1709.18,-600.0],\n",
    "[40,-1467.7,-1126.21,-600.0],[41,-1834.17,-241.47,-600.0],[42,-1709.18,707.96,-600.0],[43,-1126.21,1467.7,-600.0],\n",
    "[44,-241.48,1834.17,-600.0],[45,707.96,1709.18,-600.0],[46,1467.7,1126.21,-600.0],[47,1834.17,241.48,-600.0],\n",
    "[48,1709.18,-707.96,-1200.0],[49,1126.21,-1467.7,-1200.0],[50,241.47,-1834.17,-1200.0],[51,-707.96,-1709.18,-1200.0],\n",
    "[52,-1467.7,-1126.21,-1200.0],[53,-1834.17,-241.47,-1200.0],[54,-1709.18,707.96,-1200.0],[55,-1126.21,1467.7,-1200.0],\n",
    "[56,-241.48,1834.17,-1200.0],[57,707.96,1709.18,-1200.0],[58,1467.7,1126.21,-1200.0],[59,1834.17,241.48,-1200.0],\n",
    "[60,550.0,-0.0,1470.0],[61,275.0,-476.31,1470.0],[62,-275.0,-476.31,1470.0],[63,-550.0,-0.0,1470.0],\n",
    "[64,-275.0,476.31,1470.0],[65,275.0,476.31,1470.0],[66,1062.52,-284.7,1470.0],[67,777.82,-777.82,1470.0],\n",
    "[68,284.7,-1062.52,1470.0],[69,-284.7,-1062.52,1470.0],[70,-777.82,-777.82,1470.0],[71,-1062.52,-284.7,1470.0],\n",
    "[72,-1062.52,284.7,1470.0],[73,-777.82,777.82,1470.0],[74,-284.7,1062.52,1470.0],[75,284.7,1062.52,1470.0],\n",
    "[76,777.82,777.82,1470.0],[77,1062.52,284.7,1470.0],[78,550.0,-0.0,-1470.0],[79,275.0,-476.31,-1470.0],\n",
    "[80,-275.0,-476.31,-1470.0],[81,-550.0,-0.0,-1470.0],[82,-275.0,476.31,-1470.0],[83,275.0,476.31,-1470.0],\n",
    "[84,1062.52,-284.7,-1470.0],[85,777.82,-777.82,-1470.0],[86,284.7,-1062.52,-1470.0],[87,-284.7,-1062.52,-1470.0],\n",
    "[88,-777.82,-777.82,-1470.0],[89,-1062.52,-284.7,-1470.0],[90,-1062.52,284.7,-1470.0],[91,-777.82,777.82,-1470.0],\n",
    "[92,-284.7,1062.52,-1470.0],[93,284.7,1062.52,-1470.0],[94,777.82,777.82,-1470.0],[95,1062.52,284.7,-1470.0],\n",
    "[96,2107.453,-35.3809,1475.0],[97,1084.3685,1807.4167,1475.0],[98,-1023.089,1842.7965,1475.0],[99,-2107.4532,35.372,1475.0],\n",
    "[100,-1084.3637,-1807.4196,1475.0],[101,1023.0939,-1842.7938,1475.0],[102,-1566.1062,-1201.726,1606.0],[103,257.6573,-1957.1527,1606.0],\n",
    "[104,1823.7752,-755.4323,1606.0],[105,1566.1118,1201.7187,1606.0],[106,-257.6717,1957.1508,1606.0],[107,-1823.7725,755.4389,1606.0],\n",
    "[108,2107.453,-35.3809,-1475.0],[109,1084.3685,1807.4167,-1475.0],[110,-1023.089,1842.7965,-1475.0],[111,-2107.4532,35.372,-1475.0],\n",
    "[112,-1084.3637,-1807.4196,-1475.0],[113,1023.0939,-1842.7938,-1475.0],[114,-1566.1062,-1201.726,-1606.0],[115,257.6573,-1957.1527,-1606.0],\n",
    "[116,1823.7752,-755.4323,-1606.0],[117,1566.1118,1201.7187,-1606.0],[118,-257.6717,1957.1508,-1606.0],[119,-1823.7725,755.4389,-1606.0]])"
   ]
  },
  {
   "cell_type": "code",
   "execution_count": 4,
   "metadata": {
    "scrolled": true
   },
   "outputs": [
    {
     "ename": "KeyboardInterrupt",
     "evalue": "",
     "output_type": "error",
     "traceback": [
      "\u001b[0;31m---------------------------------------------------------------------------\u001b[0m",
      "\u001b[0;31mKeyboardInterrupt\u001b[0m                         Traceback (most recent call last)",
      "\u001b[0;32m<ipython-input-4-59849c37c41e>\u001b[0m in \u001b[0;36m<module>\u001b[0;34m\u001b[0m\n\u001b[1;32m      5\u001b[0m     \u001b[0mraw_file\u001b[0m \u001b[0;34m=\u001b[0m \u001b[0;34m'debug.r001563.f'\u001b[0m\u001b[0;34m+\u001b[0m \u001b[0;34m'{0:05d}'\u001b[0m\u001b[0;34m.\u001b[0m\u001b[0mformat\u001b[0m\u001b[0;34m(\u001b[0m\u001b[0mi\u001b[0m\u001b[0;34m)\u001b[0m\u001b[0;34m+\u001b[0m\u001b[0;34m'.root'\u001b[0m\u001b[0;34m\u001b[0m\u001b[0;34m\u001b[0m\u001b[0m\n\u001b[1;32m      6\u001b[0m     \u001b[0mcw_file\u001b[0m \u001b[0;34m=\u001b[0m \u001b[0;34m'comb.'\u001b[0m\u001b[0;34m+\u001b[0m\u001b[0mraw_file\u001b[0m\u001b[0;34m\u001b[0m\u001b[0;34m\u001b[0m\u001b[0m\n\u001b[0;32m----> 7\u001b[0;31m     \u001b[0mwaveform\u001b[0m \u001b[0;34m=\u001b[0m \u001b[0mnp\u001b[0m\u001b[0;34m.\u001b[0m\u001b[0marray\u001b[0m\u001b[0;34m(\u001b[0m\u001b[0muproot\u001b[0m\u001b[0;34m.\u001b[0m\u001b[0mopen\u001b[0m\u001b[0;34m(\u001b[0m\u001b[0mraw_path\u001b[0m\u001b[0;34m+\u001b[0m\u001b[0mraw_file\u001b[0m\u001b[0;34m)\u001b[0m\u001b[0;34m[\u001b[0m\u001b[0;34m'tree'\u001b[0m\u001b[0;34m]\u001b[0m\u001b[0;34m[\u001b[0m\u001b[0;34m'FADC'\u001b[0m\u001b[0;34m]\u001b[0m\u001b[0;34m)\u001b[0m\u001b[0;34m\u001b[0m\u001b[0;34m\u001b[0m\u001b[0m\n\u001b[0m\u001b[1;32m      8\u001b[0m     \u001b[0mtrig\u001b[0m \u001b[0;34m=\u001b[0m \u001b[0mnp\u001b[0m\u001b[0;34m.\u001b[0m\u001b[0marray\u001b[0m\u001b[0;34m(\u001b[0m\u001b[0muproot\u001b[0m\u001b[0;34m.\u001b[0m\u001b[0mopen\u001b[0m\u001b[0;34m(\u001b[0m\u001b[0mraw_path\u001b[0m\u001b[0;34m+\u001b[0m\u001b[0mraw_file\u001b[0m\u001b[0;34m)\u001b[0m\u001b[0;34m[\u001b[0m\u001b[0;34m'tree'\u001b[0m\u001b[0;34m]\u001b[0m\u001b[0;34m[\u001b[0m\u001b[0;34m'TrigID'\u001b[0m\u001b[0;34m]\u001b[0m\u001b[0;34m)\u001b[0m\u001b[0;34m\u001b[0m\u001b[0;34m\u001b[0m\u001b[0m\n\u001b[1;32m      9\u001b[0m     \u001b[0mtimetag\u001b[0m \u001b[0;34m=\u001b[0m \u001b[0mnp\u001b[0m\u001b[0;34m.\u001b[0m\u001b[0marray\u001b[0m\u001b[0;34m(\u001b[0m\u001b[0muproot\u001b[0m\u001b[0;34m.\u001b[0m\u001b[0mopen\u001b[0m\u001b[0;34m(\u001b[0m\u001b[0mraw_path\u001b[0m\u001b[0;34m+\u001b[0m\u001b[0mraw_file\u001b[0m\u001b[0;34m)\u001b[0m\u001b[0;34m[\u001b[0m\u001b[0;34m'tree'\u001b[0m\u001b[0;34m]\u001b[0m\u001b[0;34m[\u001b[0m\u001b[0;34m'TimeTag'\u001b[0m\u001b[0;34m]\u001b[0m\u001b[0;34m)\u001b[0m\u001b[0;34m\u001b[0m\u001b[0;34m\u001b[0m\u001b[0m\n",
      "\u001b[0;32m~/.conda/envs/pytorch170_pyG/lib/python3.7/site-packages/uproot/behaviors/TBranch.py\u001b[0m in \u001b[0;36m__array__\u001b[0;34m(self, *args, **kwargs)\u001b[0m\n\u001b[1;32m   2107\u001b[0m \u001b[0;34m\u001b[0m\u001b[0m\n\u001b[1;32m   2108\u001b[0m     \u001b[0;32mdef\u001b[0m \u001b[0m__array__\u001b[0m\u001b[0;34m(\u001b[0m\u001b[0mself\u001b[0m\u001b[0;34m,\u001b[0m \u001b[0;34m*\u001b[0m\u001b[0margs\u001b[0m\u001b[0;34m,\u001b[0m \u001b[0;34m**\u001b[0m\u001b[0mkwargs\u001b[0m\u001b[0;34m)\u001b[0m\u001b[0;34m:\u001b[0m\u001b[0;34m\u001b[0m\u001b[0;34m\u001b[0m\u001b[0m\n\u001b[0;32m-> 2109\u001b[0;31m         \u001b[0mout\u001b[0m \u001b[0;34m=\u001b[0m \u001b[0mself\u001b[0m\u001b[0;34m.\u001b[0m\u001b[0marray\u001b[0m\u001b[0;34m(\u001b[0m\u001b[0mlibrary\u001b[0m\u001b[0;34m=\u001b[0m\u001b[0;34m\"np\"\u001b[0m\u001b[0;34m)\u001b[0m\u001b[0;34m\u001b[0m\u001b[0;34m\u001b[0m\u001b[0m\n\u001b[0m\u001b[1;32m   2110\u001b[0m         \u001b[0;32mif\u001b[0m \u001b[0margs\u001b[0m \u001b[0;34m==\u001b[0m \u001b[0;34m(\u001b[0m\u001b[0;34m)\u001b[0m \u001b[0;32mand\u001b[0m \u001b[0mkwargs\u001b[0m \u001b[0;34m==\u001b[0m \u001b[0;34m{\u001b[0m\u001b[0;34m}\u001b[0m\u001b[0;34m:\u001b[0m\u001b[0;34m\u001b[0m\u001b[0;34m\u001b[0m\u001b[0m\n\u001b[1;32m   2111\u001b[0m             \u001b[0;32mreturn\u001b[0m \u001b[0mout\u001b[0m\u001b[0;34m\u001b[0m\u001b[0;34m\u001b[0m\u001b[0m\n",
      "\u001b[0;32m~/.conda/envs/pytorch170_pyG/lib/python3.7/site-packages/uproot/behaviors/TBranch.py\u001b[0m in \u001b[0;36marray\u001b[0;34m(self, interpretation, entry_start, entry_stop, decompression_executor, interpretation_executor, array_cache, library)\u001b[0m\n\u001b[1;32m   2086\u001b[0m             \u001b[0mlibrary\u001b[0m\u001b[0;34m,\u001b[0m\u001b[0;34m\u001b[0m\u001b[0;34m\u001b[0m\u001b[0m\n\u001b[1;32m   2087\u001b[0m             \u001b[0marrays\u001b[0m\u001b[0;34m,\u001b[0m\u001b[0;34m\u001b[0m\u001b[0;34m\u001b[0m\u001b[0m\n\u001b[0;32m-> 2088\u001b[0;31m             \u001b[0;32mFalse\u001b[0m\u001b[0;34m,\u001b[0m\u001b[0;34m\u001b[0m\u001b[0;34m\u001b[0m\u001b[0m\n\u001b[0m\u001b[1;32m   2089\u001b[0m         )\n\u001b[1;32m   2090\u001b[0m \u001b[0;34m\u001b[0m\u001b[0m\n",
      "\u001b[0;32m~/.conda/envs/pytorch170_pyG/lib/python3.7/site-packages/uproot/behaviors/TBranch.py\u001b[0m in \u001b[0;36m_ranges_or_baskets_to_arrays\u001b[0;34m(hasbranches, ranges_or_baskets, branchid_interpretation, entry_start, entry_stop, decompression_executor, interpretation_executor, library, arrays, update_ranges_or_baskets)\u001b[0m\n\u001b[1;32m   3491\u001b[0m         \u001b[0;32mif\u001b[0m \u001b[0misinstance\u001b[0m\u001b[0;34m(\u001b[0m\u001b[0mobj\u001b[0m\u001b[0;34m,\u001b[0m \u001b[0muproot\u001b[0m\u001b[0;34m.\u001b[0m\u001b[0msource\u001b[0m\u001b[0;34m.\u001b[0m\u001b[0mchunk\u001b[0m\u001b[0;34m.\u001b[0m\u001b[0mChunk\u001b[0m\u001b[0;34m)\u001b[0m\u001b[0;34m:\u001b[0m\u001b[0;34m\u001b[0m\u001b[0;34m\u001b[0m\u001b[0m\n\u001b[1;32m   3492\u001b[0m             \u001b[0margs\u001b[0m \u001b[0;34m=\u001b[0m \u001b[0mrange_args\u001b[0m\u001b[0;34m[\u001b[0m\u001b[0;34m(\u001b[0m\u001b[0mobj\u001b[0m\u001b[0;34m.\u001b[0m\u001b[0mstart\u001b[0m\u001b[0;34m,\u001b[0m \u001b[0mobj\u001b[0m\u001b[0;34m.\u001b[0m\u001b[0mstop\u001b[0m\u001b[0;34m)\u001b[0m\u001b[0;34m]\u001b[0m\u001b[0;34m\u001b[0m\u001b[0;34m\u001b[0m\u001b[0m\n\u001b[0;32m-> 3493\u001b[0;31m             \u001b[0mdecompression_executor\u001b[0m\u001b[0;34m.\u001b[0m\u001b[0msubmit\u001b[0m\u001b[0;34m(\u001b[0m\u001b[0mchunk_to_basket\u001b[0m\u001b[0;34m,\u001b[0m \u001b[0mobj\u001b[0m\u001b[0;34m,\u001b[0m \u001b[0;34m*\u001b[0m\u001b[0margs\u001b[0m\u001b[0;34m)\u001b[0m\u001b[0;34m\u001b[0m\u001b[0;34m\u001b[0m\u001b[0m\n\u001b[0m\u001b[1;32m   3494\u001b[0m \u001b[0;34m\u001b[0m\u001b[0m\n\u001b[1;32m   3495\u001b[0m         \u001b[0;32melif\u001b[0m \u001b[0misinstance\u001b[0m\u001b[0;34m(\u001b[0m\u001b[0mobj\u001b[0m\u001b[0;34m,\u001b[0m \u001b[0muproot\u001b[0m\u001b[0;34m.\u001b[0m\u001b[0mmodels\u001b[0m\u001b[0;34m.\u001b[0m\u001b[0mTBasket\u001b[0m\u001b[0;34m.\u001b[0m\u001b[0mModel_TBasket\u001b[0m\u001b[0;34m)\u001b[0m\u001b[0;34m:\u001b[0m\u001b[0;34m\u001b[0m\u001b[0;34m\u001b[0m\u001b[0m\n",
      "\u001b[0;32m~/.conda/envs/pytorch170_pyG/lib/python3.7/site-packages/uproot/source/futures.py\u001b[0m in \u001b[0;36msubmit\u001b[0;34m(self, task, *args)\u001b[0m\n\u001b[1;32m     71\u001b[0m         \u001b[0mImmediately\u001b[0m \u001b[0mruns\u001b[0m\u001b[0;31m \u001b[0m\u001b[0;31m`\u001b[0m\u001b[0;31m`\u001b[0m\u001b[0mtask\u001b[0m\u001b[0;34m(\u001b[0m\u001b[0;34m*\u001b[0m\u001b[0margs\u001b[0m\u001b[0;34m)\u001b[0m\u001b[0;31m`\u001b[0m\u001b[0;31m`\u001b[0m\u001b[0;34m.\u001b[0m\u001b[0;34m\u001b[0m\u001b[0;34m\u001b[0m\u001b[0m\n\u001b[1;32m     72\u001b[0m         \"\"\"\n\u001b[0;32m---> 73\u001b[0;31m         \u001b[0;32mreturn\u001b[0m \u001b[0mTrivialFuture\u001b[0m\u001b[0;34m(\u001b[0m\u001b[0mtask\u001b[0m\u001b[0;34m(\u001b[0m\u001b[0;34m*\u001b[0m\u001b[0margs\u001b[0m\u001b[0;34m)\u001b[0m\u001b[0;34m)\u001b[0m\u001b[0;34m\u001b[0m\u001b[0;34m\u001b[0m\u001b[0m\n\u001b[0m\u001b[1;32m     74\u001b[0m \u001b[0;34m\u001b[0m\u001b[0m\n\u001b[1;32m     75\u001b[0m     \u001b[0;32mdef\u001b[0m \u001b[0mshutdown\u001b[0m\u001b[0;34m(\u001b[0m\u001b[0mself\u001b[0m\u001b[0;34m,\u001b[0m \u001b[0mwait\u001b[0m\u001b[0;34m=\u001b[0m\u001b[0;32mTrue\u001b[0m\u001b[0;34m)\u001b[0m\u001b[0;34m:\u001b[0m\u001b[0;34m\u001b[0m\u001b[0;34m\u001b[0m\u001b[0m\n",
      "\u001b[0;32m~/.conda/envs/pytorch170_pyG/lib/python3.7/site-packages/uproot/behaviors/TBranch.py\u001b[0m in \u001b[0;36mchunk_to_basket\u001b[0;34m(chunk, branch, basket_num)\u001b[0m\n\u001b[1;32m   3427\u001b[0m                 \u001b[0mhasbranches\u001b[0m\u001b[0;34m.\u001b[0m\u001b[0m_file\u001b[0m\u001b[0;34m,\u001b[0m\u001b[0;34m\u001b[0m\u001b[0;34m\u001b[0m\u001b[0m\n\u001b[1;32m   3428\u001b[0m                 \u001b[0mhasbranches\u001b[0m\u001b[0;34m.\u001b[0m\u001b[0m_file\u001b[0m\u001b[0;34m,\u001b[0m\u001b[0;34m\u001b[0m\u001b[0;34m\u001b[0m\u001b[0m\n\u001b[0;32m-> 3429\u001b[0;31m                 \u001b[0mbranch\u001b[0m\u001b[0;34m,\u001b[0m\u001b[0;34m\u001b[0m\u001b[0;34m\u001b[0m\u001b[0m\n\u001b[0m\u001b[1;32m   3430\u001b[0m             )\n\u001b[1;32m   3431\u001b[0m             \u001b[0moriginal_index\u001b[0m \u001b[0;34m=\u001b[0m \u001b[0mrange_original_index\u001b[0m\u001b[0;34m[\u001b[0m\u001b[0;34m(\u001b[0m\u001b[0mchunk\u001b[0m\u001b[0;34m.\u001b[0m\u001b[0mstart\u001b[0m\u001b[0;34m,\u001b[0m \u001b[0mchunk\u001b[0m\u001b[0;34m.\u001b[0m\u001b[0mstop\u001b[0m\u001b[0;34m)\u001b[0m\u001b[0;34m]\u001b[0m\u001b[0;34m\u001b[0m\u001b[0;34m\u001b[0m\u001b[0m\n",
      "\u001b[0;32m~/.conda/envs/pytorch170_pyG/lib/python3.7/site-packages/uproot/model.py\u001b[0m in \u001b[0;36mread\u001b[0;34m(cls, chunk, cursor, context, file, selffile, parent, concrete)\u001b[0m\n\u001b[1;32m    803\u001b[0m             )\n\u001b[1;32m    804\u001b[0m \u001b[0;34m\u001b[0m\u001b[0m\n\u001b[0;32m--> 805\u001b[0;31m             \u001b[0mself\u001b[0m\u001b[0;34m.\u001b[0m\u001b[0mread_members\u001b[0m\u001b[0;34m(\u001b[0m\u001b[0mchunk\u001b[0m\u001b[0;34m,\u001b[0m \u001b[0mcursor\u001b[0m\u001b[0;34m,\u001b[0m \u001b[0mcontext\u001b[0m\u001b[0;34m,\u001b[0m \u001b[0mfile\u001b[0m\u001b[0;34m)\u001b[0m\u001b[0;34m\u001b[0m\u001b[0;34m\u001b[0m\u001b[0m\n\u001b[0m\u001b[1;32m    806\u001b[0m \u001b[0;34m\u001b[0m\u001b[0m\n\u001b[1;32m    807\u001b[0m             self.hook_after_read_members(\n",
      "\u001b[0;32m~/.conda/envs/pytorch170_pyG/lib/python3.7/site-packages/uproot/models/TBasket.py\u001b[0m in \u001b[0;36mread_members\u001b[0;34m(self, chunk, cursor, context, file)\u001b[0m\n\u001b[1;32m    287\u001b[0m                     \u001b[0mcompressed_bytes\u001b[0m\u001b[0;34m,\u001b[0m\u001b[0;34m\u001b[0m\u001b[0;34m\u001b[0m\u001b[0m\n\u001b[1;32m    288\u001b[0m                     \u001b[0muncompressed_bytes\u001b[0m\u001b[0;34m,\u001b[0m\u001b[0;34m\u001b[0m\u001b[0;34m\u001b[0m\u001b[0m\n\u001b[0;32m--> 289\u001b[0;31m                     \u001b[0mself\u001b[0m\u001b[0;34m.\u001b[0m\u001b[0m_block_compression_info\u001b[0m\u001b[0;34m,\u001b[0m\u001b[0;34m\u001b[0m\u001b[0;34m\u001b[0m\u001b[0m\n\u001b[0m\u001b[1;32m    290\u001b[0m                 )\n\u001b[1;32m    291\u001b[0m                 \u001b[0mself\u001b[0m\u001b[0;34m.\u001b[0m\u001b[0m_block_compression_info\u001b[0m \u001b[0;34m=\u001b[0m \u001b[0mtuple\u001b[0m\u001b[0;34m(\u001b[0m\u001b[0mself\u001b[0m\u001b[0;34m.\u001b[0m\u001b[0m_block_compression_info\u001b[0m\u001b[0;34m)\u001b[0m\u001b[0;34m\u001b[0m\u001b[0;34m\u001b[0m\u001b[0m\n",
      "\u001b[0;32m~/.conda/envs/pytorch170_pyG/lib/python3.7/site-packages/uproot/compression.py\u001b[0m in \u001b[0;36mdecompress\u001b[0;34m(chunk, cursor, context, compressed_bytes, uncompressed_bytes, block_info)\u001b[0m\n\u001b[1;32m    412\u001b[0m \u001b[0;34m\u001b[0m\u001b[0m\n\u001b[1;32m    413\u001b[0m         uncompressed_bytestring = decompressor.decompress(\n\u001b[0;32m--> 414\u001b[0;31m             \u001b[0mdata\u001b[0m\u001b[0;34m,\u001b[0m \u001b[0mblock_uncompressed_bytes\u001b[0m\u001b[0;34m\u001b[0m\u001b[0;34m\u001b[0m\u001b[0m\n\u001b[0m\u001b[1;32m    415\u001b[0m         )\n\u001b[1;32m    416\u001b[0m \u001b[0;34m\u001b[0m\u001b[0m\n",
      "\u001b[0;32m~/.conda/envs/pytorch170_pyG/lib/python3.7/site-packages/uproot/compression.py\u001b[0m in \u001b[0;36mdecompress\u001b[0;34m(self, data, uncompressed_bytes)\u001b[0m\n\u001b[1;32m     91\u001b[0m         \u001b[0;32mimport\u001b[0m \u001b[0mzlib\u001b[0m\u001b[0;34m\u001b[0m\u001b[0;34m\u001b[0m\u001b[0m\n\u001b[1;32m     92\u001b[0m \u001b[0;34m\u001b[0m\u001b[0m\n\u001b[0;32m---> 93\u001b[0;31m         \u001b[0;32mreturn\u001b[0m \u001b[0mzlib\u001b[0m\u001b[0;34m.\u001b[0m\u001b[0mdecompress\u001b[0m\u001b[0;34m(\u001b[0m\u001b[0mdata\u001b[0m\u001b[0;34m)\u001b[0m\u001b[0;34m\u001b[0m\u001b[0;34m\u001b[0m\u001b[0m\n\u001b[0m\u001b[1;32m     94\u001b[0m \u001b[0;34m\u001b[0m\u001b[0m\n\u001b[1;32m     95\u001b[0m \u001b[0;34m\u001b[0m\u001b[0m\n",
      "\u001b[0;31mKeyboardInterrupt\u001b[0m: "
     ]
    }
   ],
   "source": [
    "raw_path = '/store/hep/users/yewzzang/JSNS2/vertex/'\n",
    "cw_me = '/users/wonsang1995/CWDataDir/v3_classify/r001563/ME/'\n",
    "cw_fn = '/users/wonsang1995/CWDataDir/v3_classify/r001563/FN/'\n",
    "for i in range(3697):\n",
    "    raw_file = 'debug.r001563.f'+ '{0:05d}'.format(i)+'.root'\n",
    "    cw_file = 'comb.'+raw_file\n",
    "    waveform = np.array(uproot.open(raw_path+raw_file)['tree']['FADC'])\n",
    "    trig = np.array(uproot.open(raw_path+raw_file)['tree']['TrigID'])\n",
    "    timetag = np.array(uproot.open(raw_path+raw_file)['tree']['TimeTag'])\n",
    "\n",
    "\n",
    "    FN_trig = np.array(uproot.open(cw_fn+cw_file)['comTree']['TrigID'])\n",
    "    FN_vtx = np.array(uproot.open(cw_fn+cw_file)['comTree']['CorRecoVertex'])\n",
    "\n",
    "    ME_trig = np.array(uproot.open(cw_mf+cw_file)['comTree']['TrigID'])\n",
    "    ME_vtx = np.array(uproot.open(cw_mf+cw_file)['comTree']['CorRecoVertex'])\n",
    "    all_trig = np.concatenate((FN_trig, ME_trig),axis=0)\n",
    "    all_vtx = np.concatenate((FN_vtx, ME_vtx),axis=0)\n",
    "    output_name = 'r001563_vertex_'+ '{0:05d}'.format(i)+'.h5'\n",
    "\n",
    "    pmts_high = np.empty((0,96,248))\n",
    "    pmts_low = np.empty((0,96,248))\n",
    "    times = np.empty((0,28))\n",
    "\n",
    "\n",
    "    for nums in range(len(all_trig)):\n",
    "\n",
    "        events_num = np.where(trig==all_trig[nums])\n",
    "\n",
    "        times = np.append(times,timetag[int(events_num[0])].reshape(1,28),axis=0)\n",
    "    # for events in range(100):\n",
    "        pmt_high = np.empty((0,248))\n",
    "        pmt_low = np.empty((0,248))\n",
    "        for pmt in range(96):\n",
    "            pmt_high = np.append(pmt_high,waveform[events_num,PMTs[pmt][1],PMTs[pmt][2],:].reshape(1,-1),axis=0)\n",
    "            pmt_low = np.append(pmt_low,waveform[events_num,PMTs[pmt][1],PMTs[pmt][2],:].reshape(1,-1),axis=0)\n",
    "\n",
    "        pmts_high = np.append(pmts_high,pmt_high.reshape(1,96,248),axis=0)\n",
    "        pmts_low = np.append(pmts_low,pmt_low.reshape(1,96,248),axis=0)\n",
    "    kwargs = {'dtype':'f4', 'compression':'lzf'}\n",
    "    #     with h5py.File(output_path, 'w', libver='latest', swmr=True) as fout:\n",
    "\n",
    "    with h5py.File(output_name, 'w', libver='latest', swmr=True) as fout:\n",
    "        m = fout.create_group('info')\n",
    "        m.create_dataset('shape', data=[96, 248], dtype='i4')\n",
    "\n",
    "        g = fout.create_group('events')\n",
    "        g.create_dataset('trigID', data=all_trig, dtype='i4')\n",
    "        g.create_dataset('vtx', data=all_vtx, chunks=(1,3),dtype='f8')\n",
    "        g.create_dataset('timetag', data=times, chunks=(1,28), **kwargs)\n",
    "        g.create_dataset('high', data=pmts_high, chunks=(1, 96, 248), **kwargs)\n",
    "        g.create_dataset('low', data=pmts_low, chunks=(1, 96, 248), **kwargs)"
   ]
  },
  {
   "cell_type": "code",
   "execution_count": null,
   "metadata": {},
   "outputs": [],
   "source": []
  },
  {
   "cell_type": "code",
   "execution_count": null,
   "metadata": {},
   "outputs": [],
   "source": []
  },
  {
   "cell_type": "code",
   "execution_count": null,
   "metadata": {},
   "outputs": [],
   "source": []
  },
  {
   "cell_type": "code",
   "execution_count": 14,
   "metadata": {},
   "outputs": [
    {
     "data": {
      "image/png": "[encoded data removed]",
      "text/plain": [
       "<Figure size 432x288 with 1 Axes>"
      ]
     },
     "metadata": {
      "needs_background": "light"
     },
     "output_type": "display_data"
    }
   ],
   "source": [
    "plt.plot(pmt_pos[:96,1].T,pmt_pos[:96,2].T,'.')\n",
    "plt.show()\n"
   ]
  },
  {
   "cell_type": "code",
   "execution_count": 12,
   "metadata": {},
   "outputs": [
    {
     "data": {
      "text/plain": [
       "array([ 0.,  1.,  2.,  3.,  4.,  5.,  6.,  7.,  8.,  9., 10., 11., 12.,\n",
       "       13., 14., 15., 16., 17., 18., 19., 20., 21., 22., 23., 24., 25.,\n",
       "       26., 27., 28., 29., 30., 31., 32., 33., 34., 35., 36., 37., 38.,\n",
       "       39., 40., 41., 42., 43., 44., 45., 46., 47., 48., 49., 50., 51.,\n",
       "       52., 53., 54., 55., 56., 57., 58., 59., 60., 61., 62., 63., 64.,\n",
       "       65., 66., 67., 68., 69., 70., 71., 72., 73., 74., 75., 76., 77.,\n",
       "       78., 79., 80., 81., 82., 83., 84., 85., 86., 87., 88., 89., 90.,\n",
       "       91., 92., 93., 94., 95.])"
      ]
     },
     "execution_count": 12,
     "metadata": {},
     "output_type": "execute_result"
    }
   ],
   "source": [
    "pmt_pos[:96,0].T"
   ]
  },
  {
   "cell_type": "code",
   "execution_count": 16,
   "metadata": {},
   "outputs": [
    {
     "data": {
      "text/plain": [
       "(96, 3)"
      ]
     },
     "execution_count": 16,
     "metadata": {},
     "output_type": "execute_result"
    }
   ],
   "source": [
    "pmt_pos[:96,1:4].shape"
   ]
  },
  {
   "cell_type": "code",
   "execution_count": 18,
   "metadata": {},
   "outputs": [],
   "source": [
    "cw_fn = '/users/wonsang1995/CWDataDir/v3_classify/r001563/FN/comb.debug.r001563.f00001.root'"
   ]
  },
  {
   "cell_type": "code",
   "execution_count": 21,
   "metadata": {},
   "outputs": [],
   "source": [
    "FN_vtx = np.array(uproot.open(cw_fn)['comTree']['CorRecoVertex'])"
   ]
  },
  {
   "cell_type": "code",
   "execution_count": 22,
   "metadata": {},
   "outputs": [
    {
     "data": {
      "text/plain": [
       "array([[ 0.570196, -1.15932 ,  0.822325],\n",
       "       [ 1.11318 ,  0.571919,  0.224409],\n",
       "       [ 1.17552 , -0.177599,  0.869867],\n",
       "       [ 1.62993 , -0.451613, -0.624825],\n",
       "       [-0.484897,  1.04644 ,  0.861305],\n",
       "       [-0.137149,  0.815299,  0.502183]], dtype=float32)"
      ]
     },
     "execution_count": 22,
     "metadata": {},
     "output_type": "execute_result"
    }
   ],
   "source": [
    "FN_vtx"
   ]
  },
  {
   "cell_type": "code",
   "execution_count": null,
   "metadata": {},
   "outputs": [],
   "source": []
  }
 ],
 "metadata": {
  "kernelspec": {
   "display_name": "Python 3",
   "language": "python",
   "name": "python3"
  },
  "language_info": {
   "codemirror_mode": {
    "name": "ipython",
    "version": 3
   },
   "file_extension": ".py",
   "mimetype": "text/x-python",
   "name": "python",
   "nbconvert_exporter": "python",
   "pygments_lexer": "ipython3",
   "version": "3.7.9"
  }
 },
 "nbformat": 4,
 "nbformat_minor": 4
}
