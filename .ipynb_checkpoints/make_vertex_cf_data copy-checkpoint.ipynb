{
 "cells": [
  {
   "cell_type": "code",
   "execution_count": 1,
   "metadata": {},
   "outputs": [],
   "source": [
    "import uproot\n",
    "import numpy as np\n",
    "import matplotlib.pyplot as plt\n",
    "import h5py\n",
    "from tqdm import tqdm"
   ]
  },
  {
   "cell_type": "code",
   "execution_count": 2,
   "metadata": {},
   "outputs": [],
   "source": [
    "\n",
    "PMTs = np.array([[0,4,1,16,1],[1,4,2,16,2],[2,4,3,16,3],[3,4,4,16,4],\n",
    "[4,4,5,16,5],[5,3,3,15,3],[6,3,4,15,4],[7,3,5,15,5],\n",
    "[8,5,0,17,0],[9,5,1,17,1],[10,4,6,16,6],[11,4,7,16,7],\n",
    "[12,6,0,18,0],[13,6,1,18,1],[14,6,2,18,2],[15,1,6,13,6],\n",
    "[16,1,7,13,7],[17,7,0,19,0],[18,7,1,19,1],[19,7,2,19,2],\n",
    "[20,7,3,19,3],[21,7,4,19,4],[22,7,5,19,5],[23,7,6,19,6],\n",
    "[24,5,2,17,2],[25,5,3,17,3],[26,5,4,17,4],[27,8,0,20,0],\n",
    "[28,9,0,21,0],[29,9,1,21,1],[30,3,6,15,6],[31,3,7,15,7],\n",
    "[32,7,7,19,7],[33,5,5,17,5],[34,5,6,17,6],[35,5,7,17,7],\n",
    "[36,6,3,18,3],[37,6,4,18,4],[38,6,5,18,5],[39,6,6,18,6],\n",
    "[40,6,7,18,7],[41,10,0,22,0],[42,10,1,22,1],[43,10,2,22,2],\n",
    "[44,10,3,22,3],[45,10,4,22,4],[46,10,5,22,5],[47,10,6,22,6],\n",
    "[48,8,1,20,1],[49,8,2,20,2],[50,8,3,20,3],[51,8,4,20,4],\n",
    "[52,9,2,21,2],[53,9,3,21,3],[54,9,4,21,4],[55,9,5,21,5],\n",
    "[56,10,7,22,7],[57,8,5,20,5],[58,8,6,20,6],[59,8,7,20,7],\n",
    "[60,1,0,13,0],[61,1,1,13,1],[62,1,2,13,2],[63,1,3,13,3],\n",
    "[64,3,0,15,0],[65,1,4,13,4],[66,2,0,14,0],[67,2,1,14,1],\n",
    "[68,2,2,14,2],[69,1,5,13,5],[70,4,0,16,0],[71,2,3,14,3],\n",
    "[72,2,4,14,4],[73,3,1,15,1],[74,3,2,15,2],[75,2,5,14,5],\n",
    "[76,2,6,14,6],[77,2,7,14,7],[78,12,0,24,0],[79,12,1,24,1],\n",
    "[80,12,2,24,2],[81,12,3,24,3],[82,12,4,24,4],[83,12,5,24,5],\n",
    "[84,11,0,23,0],[85,11,1,23,1],[86,11,2,23,2],[87,11,3,23,3],\n",
    "[88,11,4,23,4],[89,9,6,21,6],[90,9,7,21,7],[91,12,6,24,6],\n",
    "[92,12,7,24,7],[93,11,5,23,5],[94,11,6,23,6],[95,11,7,23,7]])"
   ]
  },
  {
   "cell_type": "code",
   "execution_count": 3,
   "metadata": {},
   "outputs": [],
   "source": [
    "pmt_pos = np.array([[0,1709.18,-707.96,1200.0],[1,1126.21,-1467.7,1200.0],[2,241.47,-1834.17,1200.0],[3,-707.96,-1709.18,1200.0],\n",
    "[4,-1467.7,-1126.21,1200.0],[5,-1834.17,-241.47,1200.0],[6,-1709.18,707.96,1200.0],[7,-1126.21,1467.7,1200.0],\n",
    "[8,-241.48,1834.17,1200.0],[9,707.96,1709.18,1200.0],[10,1467.7,1126.21,1200.0],[11,1834.17,241.48,1200.0],\n",
    "[12,1709.18,-707.96,600.0],[13,1126.21,-1467.7,600.0],[14,241.47,-1834.17,600.0],[15,-707.96,-1709.18,600.0],\n",
    "[16,-1467.7,-1126.21,600.0],[17,-1834.17,-241.47,600.0],[18,-1709.18,707.96,600.0],[19,-1126.21,1467.7,600.0],\n",
    "[20,-241.48,1834.17,600.0],[21,707.96,1709.18,600.0],[22,1467.7,1126.21,600.0],[23,1834.17,241.48,600.0],\n",
    "[24,1709.18,-707.96,0.0],[25,1126.21,-1467.7,0.0],[26,241.47,-1834.17,0.0],[27,-707.96,-1709.18,0.0],\n",
    "[28,-1467.7,-1126.21,0.0],[29,-1834.17,-241.47,0.0],[30,-1709.18,707.96,0.0],[31,-1126.21,1467.7,0.0],\n",
    "[32,-241.48,1834.17,0.0],[33,707.96,1709.18,0.0],[34,1467.7,1126.21,0.0],[35,1834.17,241.48,0.0],\n",
    "[36,1709.18,-707.96,-600.0],[37,1126.21,-1467.7,-600.0],[38,241.47,-1834.17,-600.0],[39,-707.96,-1709.18,-600.0],\n",
    "[40,-1467.7,-1126.21,-600.0],[41,-1834.17,-241.47,-600.0],[42,-1709.18,707.96,-600.0],[43,-1126.21,1467.7,-600.0],\n",
    "[44,-241.48,1834.17,-600.0],[45,707.96,1709.18,-600.0],[46,1467.7,1126.21,-600.0],[47,1834.17,241.48,-600.0],\n",
    "[48,1709.18,-707.96,-1200.0],[49,1126.21,-1467.7,-1200.0],[50,241.47,-1834.17,-1200.0],[51,-707.96,-1709.18,-1200.0],\n",
    "[52,-1467.7,-1126.21,-1200.0],[53,-1834.17,-241.47,-1200.0],[54,-1709.18,707.96,-1200.0],[55,-1126.21,1467.7,-1200.0],\n",
    "[56,-241.48,1834.17,-1200.0],[57,707.96,1709.18,-1200.0],[58,1467.7,1126.21,-1200.0],[59,1834.17,241.48,-1200.0],\n",
    "[60,550.0,-0.0,1470.0],[61,275.0,-476.31,1470.0],[62,-275.0,-476.31,1470.0],[63,-550.0,-0.0,1470.0],\n",
    "[64,-275.0,476.31,1470.0],[65,275.0,476.31,1470.0],[66,1062.52,-284.7,1470.0],[67,777.82,-777.82,1470.0],\n",
    "[68,284.7,-1062.52,1470.0],[69,-284.7,-1062.52,1470.0],[70,-777.82,-777.82,1470.0],[71,-1062.52,-284.7,1470.0],\n",
    "[72,-1062.52,284.7,1470.0],[73,-777.82,777.82,1470.0],[74,-284.7,1062.52,1470.0],[75,284.7,1062.52,1470.0],\n",
    "[76,777.82,777.82,1470.0],[77,1062.52,284.7,1470.0],[78,550.0,-0.0,-1470.0],[79,275.0,-476.31,-1470.0],\n",
    "[80,-275.0,-476.31,-1470.0],[81,-550.0,-0.0,-1470.0],[82,-275.0,476.31,-1470.0],[83,275.0,476.31,-1470.0],\n",
    "[84,1062.52,-284.7,-1470.0],[85,777.82,-777.82,-1470.0],[86,284.7,-1062.52,-1470.0],[87,-284.7,-1062.52,-1470.0],\n",
    "[88,-777.82,-777.82,-1470.0],[89,-1062.52,-284.7,-1470.0],[90,-1062.52,284.7,-1470.0],[91,-777.82,777.82,-1470.0],\n",
    "[92,-284.7,1062.52,-1470.0],[93,284.7,1062.52,-1470.0],[94,777.82,777.82,-1470.0],[95,1062.52,284.7,-1470.0],\n",
    "[96,2107.453,-35.3809,1475.0],[97,1084.3685,1807.4167,1475.0],[98,-1023.089,1842.7965,1475.0],[99,-2107.4532,35.372,1475.0],\n",
    "[100,-1084.3637,-1807.4196,1475.0],[101,1023.0939,-1842.7938,1475.0],[102,-1566.1062,-1201.726,1606.0],[103,257.6573,-1957.1527,1606.0],\n",
    "[104,1823.7752,-755.4323,1606.0],[105,1566.1118,1201.7187,1606.0],[106,-257.6717,1957.1508,1606.0],[107,-1823.7725,755.4389,1606.0],\n",
    "[108,2107.453,-35.3809,-1475.0],[109,1084.3685,1807.4167,-1475.0],[110,-1023.089,1842.7965,-1475.0],[111,-2107.4532,35.372,-1475.0],\n",
    "[112,-1084.3637,-1807.4196,-1475.0],[113,1023.0939,-1842.7938,-1475.0],[114,-1566.1062,-1201.726,-1606.0],[115,257.6573,-1957.1527,-1606.0],\n",
    "[116,1823.7752,-755.4323,-1606.0],[117,1566.1118,1201.7187,-1606.0],[118,-257.6717,1957.1508,-1606.0],[119,-1823.7725,755.4389,-1606.0]])"
   ]
  },
  {
   "cell_type": "code",
   "execution_count": null,
   "metadata": {},
   "outputs": [],
   "source": []
  },
  {
   "cell_type": "code",
   "execution_count": null,
   "metadata": {},
   "outputs": [],
   "source": []
  },
  {
   "cell_type": "code",
   "execution_count": 4,
   "metadata": {},
   "outputs": [
    {
     "name": "stderr",
     "output_type": "stream",
     "text": [
      "100%|██████████| 53/53 [34:36<00:00, 39.18s/it]\n",
      "100%|██████████| 53/53 [34:15<00:00, 38.79s/it]\n",
      "100%|██████████| 53/53 [34:17<00:00, 38.82s/it]\n",
      "100%|██████████| 53/53 [34:10<00:00, 38.69s/it]\n",
      "100%|██████████| 53/53 [34:20<00:00, 38.88s/it]\n",
      " 68%|██████▊   | 36/53 [24:00<11:20, 40.02s/it]\n"
     ]
    },
    {
     "ename": "KeyboardInterrupt",
     "evalue": "",
     "output_type": "error",
     "traceback": [
      "\u001b[0;31m---------------------------------------------------------------------------\u001b[0m",
      "\u001b[0;31mKeyboardInterrupt\u001b[0m                         Traceback (most recent call last)",
      "\u001b[0;32m<ipython-input-4-3eb6fe6195a7>\u001b[0m in \u001b[0;36m<module>\u001b[0;34m\u001b[0m\n\u001b[1;32m     39\u001b[0m             vtx = np.array([np.array(ff[events])[0][0],\n\u001b[1;32m     40\u001b[0m                             \u001b[0mnp\u001b[0m\u001b[0;34m.\u001b[0m\u001b[0marray\u001b[0m\u001b[0;34m(\u001b[0m\u001b[0mff\u001b[0m\u001b[0;34m[\u001b[0m\u001b[0mevents\u001b[0m\u001b[0;34m]\u001b[0m\u001b[0;34m)\u001b[0m\u001b[0;34m[\u001b[0m\u001b[0;36m0\u001b[0m\u001b[0;34m]\u001b[0m\u001b[0;34m[\u001b[0m\u001b[0;36m1\u001b[0m\u001b[0;34m]\u001b[0m\u001b[0;34m,\u001b[0m\u001b[0;34m\u001b[0m\u001b[0;34m\u001b[0m\u001b[0m\n\u001b[0;32m---> 41\u001b[0;31m                             np.array(ff[events])[0][2]])\n\u001b[0m\u001b[1;32m     42\u001b[0m \u001b[0;34m\u001b[0m\u001b[0m\n\u001b[1;32m     43\u001b[0m             \u001b[0mpmts_charge\u001b[0m \u001b[0;34m=\u001b[0m \u001b[0mnp\u001b[0m\u001b[0;34m.\u001b[0m\u001b[0mappend\u001b[0m\u001b[0;34m(\u001b[0m\u001b[0mpmts_charge\u001b[0m\u001b[0;34m,\u001b[0m \u001b[0mcharge\u001b[0m\u001b[0;34m.\u001b[0m\u001b[0mreshape\u001b[0m\u001b[0;34m(\u001b[0m\u001b[0;36m1\u001b[0m\u001b[0;34m,\u001b[0m\u001b[0;36m96\u001b[0m\u001b[0;34m,\u001b[0m\u001b[0;36m1\u001b[0m\u001b[0;34m)\u001b[0m\u001b[0;34m,\u001b[0m\u001b[0maxis\u001b[0m\u001b[0;34m=\u001b[0m\u001b[0;36m0\u001b[0m\u001b[0;34m)\u001b[0m\u001b[0;34m\u001b[0m\u001b[0;34m\u001b[0m\u001b[0m\n",
      "\u001b[0;32m~/.conda/envs/pytorch170_pyG/lib/python3.7/site-packages/awkward/highlevel.py\u001b[0m in \u001b[0;36m__getitem__\u001b[0;34m(self, where)\u001b[0m\n\u001b[1;32m    989\u001b[0m         \"\"\"\n\u001b[1;32m    990\u001b[0m         \u001b[0;32mif\u001b[0m \u001b[0;32mnot\u001b[0m \u001b[0mhasattr\u001b[0m\u001b[0;34m(\u001b[0m\u001b[0mself\u001b[0m\u001b[0;34m,\u001b[0m \u001b[0;34m\"_tracers\"\u001b[0m\u001b[0;34m)\u001b[0m\u001b[0;34m:\u001b[0m\u001b[0;34m\u001b[0m\u001b[0;34m\u001b[0m\u001b[0m\n\u001b[0;32m--> 991\u001b[0;31m             \u001b[0mtmp\u001b[0m \u001b[0;34m=\u001b[0m \u001b[0mak\u001b[0m\u001b[0;34m.\u001b[0m\u001b[0m_util\u001b[0m\u001b[0;34m.\u001b[0m\u001b[0mwrap\u001b[0m\u001b[0;34m(\u001b[0m\u001b[0mself\u001b[0m\u001b[0;34m.\u001b[0m\u001b[0mlayout\u001b[0m\u001b[0;34m[\u001b[0m\u001b[0mwhere\u001b[0m\u001b[0;34m]\u001b[0m\u001b[0;34m,\u001b[0m \u001b[0mself\u001b[0m\u001b[0;34m.\u001b[0m\u001b[0m_behavior\u001b[0m\u001b[0;34m)\u001b[0m\u001b[0;34m\u001b[0m\u001b[0;34m\u001b[0m\u001b[0m\n\u001b[0m\u001b[1;32m    992\u001b[0m         \u001b[0;32melse\u001b[0m\u001b[0;34m:\u001b[0m\u001b[0;34m\u001b[0m\u001b[0;34m\u001b[0m\u001b[0m\n\u001b[1;32m    993\u001b[0m             \u001b[0mtmp\u001b[0m \u001b[0;34m=\u001b[0m \u001b[0mak\u001b[0m\u001b[0;34m.\u001b[0m\u001b[0m_connect\u001b[0m\u001b[0;34m.\u001b[0m\u001b[0m_jax\u001b[0m\u001b[0;34m.\u001b[0m\u001b[0mjax_utils\u001b[0m\u001b[0;34m.\u001b[0m\u001b[0m_jaxtracers_getitem\u001b[0m\u001b[0;34m(\u001b[0m\u001b[0mself\u001b[0m\u001b[0;34m,\u001b[0m \u001b[0mwhere\u001b[0m\u001b[0;34m)\u001b[0m\u001b[0;34m\u001b[0m\u001b[0;34m\u001b[0m\u001b[0m\n",
      "\u001b[0;32m~/.conda/envs/pytorch170_pyG/lib/python3.7/site-packages/awkward/_util.py\u001b[0m in \u001b[0;36mwrap\u001b[0;34m(content, behavior)\u001b[0m\n\u001b[1;32m    499\u001b[0m \u001b[0;32mdef\u001b[0m \u001b[0mwrap\u001b[0m\u001b[0;34m(\u001b[0m\u001b[0mcontent\u001b[0m\u001b[0;34m,\u001b[0m \u001b[0mbehavior\u001b[0m\u001b[0;34m)\u001b[0m\u001b[0;34m:\u001b[0m\u001b[0;34m\u001b[0m\u001b[0;34m\u001b[0m\u001b[0m\n\u001b[1;32m    500\u001b[0m     \u001b[0;32mif\u001b[0m \u001b[0misinstance\u001b[0m\u001b[0;34m(\u001b[0m\u001b[0mcontent\u001b[0m\u001b[0;34m,\u001b[0m \u001b[0;34m(\u001b[0m\u001b[0mak\u001b[0m\u001b[0;34m.\u001b[0m\u001b[0mlayout\u001b[0m\u001b[0;34m.\u001b[0m\u001b[0mContent\u001b[0m\u001b[0;34m,\u001b[0m \u001b[0mak\u001b[0m\u001b[0;34m.\u001b[0m\u001b[0mpartition\u001b[0m\u001b[0;34m.\u001b[0m\u001b[0mPartitionedArray\u001b[0m\u001b[0;34m)\u001b[0m\u001b[0;34m)\u001b[0m\u001b[0;34m:\u001b[0m\u001b[0;34m\u001b[0m\u001b[0;34m\u001b[0m\u001b[0m\n\u001b[0;32m--> 501\u001b[0;31m         \u001b[0;32mreturn\u001b[0m \u001b[0mak\u001b[0m\u001b[0;34m.\u001b[0m\u001b[0mhighlevel\u001b[0m\u001b[0;34m.\u001b[0m\u001b[0mArray\u001b[0m\u001b[0;34m(\u001b[0m\u001b[0mcontent\u001b[0m\u001b[0;34m,\u001b[0m \u001b[0mbehavior\u001b[0m\u001b[0;34m=\u001b[0m\u001b[0mbehavior\u001b[0m\u001b[0;34m,\u001b[0m \u001b[0mkernels\u001b[0m\u001b[0;34m=\u001b[0m\u001b[0;32mNone\u001b[0m\u001b[0;34m)\u001b[0m\u001b[0;34m\u001b[0m\u001b[0;34m\u001b[0m\u001b[0m\n\u001b[0m\u001b[1;32m    502\u001b[0m \u001b[0;34m\u001b[0m\u001b[0m\n\u001b[1;32m    503\u001b[0m     \u001b[0;32melif\u001b[0m \u001b[0misinstance\u001b[0m\u001b[0;34m(\u001b[0m\u001b[0mcontent\u001b[0m\u001b[0;34m,\u001b[0m \u001b[0mak\u001b[0m\u001b[0;34m.\u001b[0m\u001b[0mlayout\u001b[0m\u001b[0;34m.\u001b[0m\u001b[0mRecord\u001b[0m\u001b[0;34m)\u001b[0m\u001b[0;34m:\u001b[0m\u001b[0;34m\u001b[0m\u001b[0;34m\u001b[0m\u001b[0m\n",
      "\u001b[0;32m~/.conda/envs/pytorch170_pyG/lib/python3.7/site-packages/awkward/highlevel.py\u001b[0m in \u001b[0;36m__init__\u001b[0;34m(self, data, behavior, with_name, check_valid, cache, kernels)\u001b[0m\n\u001b[1;32m    267\u001b[0m \u001b[0;34m\u001b[0m\u001b[0m\n\u001b[1;32m    268\u001b[0m         \u001b[0mself\u001b[0m\u001b[0;34m.\u001b[0m\u001b[0mlayout\u001b[0m \u001b[0;34m=\u001b[0m \u001b[0mlayout\u001b[0m\u001b[0;34m\u001b[0m\u001b[0;34m\u001b[0m\u001b[0m\n\u001b[0;32m--> 269\u001b[0;31m         \u001b[0mself\u001b[0m\u001b[0;34m.\u001b[0m\u001b[0mbehavior\u001b[0m \u001b[0;34m=\u001b[0m \u001b[0mbehavior\u001b[0m\u001b[0;34m\u001b[0m\u001b[0;34m\u001b[0m\u001b[0m\n\u001b[0m\u001b[1;32m    270\u001b[0m         \u001b[0mdocstr\u001b[0m \u001b[0;34m=\u001b[0m \u001b[0mself\u001b[0m\u001b[0;34m.\u001b[0m\u001b[0mlayout\u001b[0m\u001b[0;34m.\u001b[0m\u001b[0mpurelist_parameter\u001b[0m\u001b[0;34m(\u001b[0m\u001b[0;34m\"__doc__\"\u001b[0m\u001b[0;34m)\u001b[0m\u001b[0;34m\u001b[0m\u001b[0;34m\u001b[0m\u001b[0m\n\u001b[1;32m    271\u001b[0m         \u001b[0;32mif\u001b[0m \u001b[0misinstance\u001b[0m\u001b[0;34m(\u001b[0m\u001b[0mdocstr\u001b[0m\u001b[0;34m,\u001b[0m \u001b[0mstr\u001b[0m\u001b[0;34m)\u001b[0m\u001b[0;34m:\u001b[0m\u001b[0;34m\u001b[0m\u001b[0;34m\u001b[0m\u001b[0m\n",
      "\u001b[0;32m~/.conda/envs/pytorch170_pyG/lib/python3.7/site-packages/awkward/highlevel.py\u001b[0m in \u001b[0;36mbehavior\u001b[0;34m(self, behavior)\u001b[0m\n\u001b[1;32m    353\u001b[0m     \u001b[0;32mdef\u001b[0m \u001b[0mbehavior\u001b[0m\u001b[0;34m(\u001b[0m\u001b[0mself\u001b[0m\u001b[0;34m,\u001b[0m \u001b[0mbehavior\u001b[0m\u001b[0;34m)\u001b[0m\u001b[0;34m:\u001b[0m\u001b[0;34m\u001b[0m\u001b[0;34m\u001b[0m\u001b[0m\n\u001b[1;32m    354\u001b[0m         \u001b[0;32mif\u001b[0m \u001b[0mbehavior\u001b[0m \u001b[0;32mis\u001b[0m \u001b[0;32mNone\u001b[0m \u001b[0;32mor\u001b[0m \u001b[0misinstance\u001b[0m\u001b[0;34m(\u001b[0m\u001b[0mbehavior\u001b[0m\u001b[0;34m,\u001b[0m \u001b[0mdict\u001b[0m\u001b[0;34m)\u001b[0m\u001b[0;34m:\u001b[0m\u001b[0;34m\u001b[0m\u001b[0;34m\u001b[0m\u001b[0m\n\u001b[0;32m--> 355\u001b[0;31m             \u001b[0mself\u001b[0m\u001b[0;34m.\u001b[0m\u001b[0m__class__\u001b[0m \u001b[0;34m=\u001b[0m \u001b[0mak\u001b[0m\u001b[0;34m.\u001b[0m\u001b[0m_util\u001b[0m\u001b[0;34m.\u001b[0m\u001b[0marrayclass\u001b[0m\u001b[0;34m(\u001b[0m\u001b[0mself\u001b[0m\u001b[0;34m.\u001b[0m\u001b[0m_layout\u001b[0m\u001b[0;34m,\u001b[0m \u001b[0mbehavior\u001b[0m\u001b[0;34m)\u001b[0m\u001b[0;34m\u001b[0m\u001b[0;34m\u001b[0m\u001b[0m\n\u001b[0m\u001b[1;32m    356\u001b[0m             \u001b[0mself\u001b[0m\u001b[0;34m.\u001b[0m\u001b[0m_behavior\u001b[0m \u001b[0;34m=\u001b[0m \u001b[0mbehavior\u001b[0m\u001b[0;34m\u001b[0m\u001b[0;34m\u001b[0m\u001b[0m\n\u001b[1;32m    357\u001b[0m         \u001b[0;32melse\u001b[0m\u001b[0;34m:\u001b[0m\u001b[0;34m\u001b[0m\u001b[0;34m\u001b[0m\u001b[0m\n",
      "\u001b[0;32m~/.conda/envs/pytorch170_pyG/lib/python3.7/site-packages/awkward/_util.py\u001b[0m in \u001b[0;36marrayclass\u001b[0;34m(layout, behavior)\u001b[0m\n\u001b[1;32m    217\u001b[0m     \u001b[0mlayout\u001b[0m \u001b[0;34m=\u001b[0m \u001b[0mak\u001b[0m\u001b[0;34m.\u001b[0m\u001b[0mpartition\u001b[0m\u001b[0;34m.\u001b[0m\u001b[0mfirst\u001b[0m\u001b[0;34m(\u001b[0m\u001b[0mlayout\u001b[0m\u001b[0;34m)\u001b[0m\u001b[0;34m\u001b[0m\u001b[0;34m\u001b[0m\u001b[0m\n\u001b[1;32m    218\u001b[0m     \u001b[0mbehavior\u001b[0m \u001b[0;34m=\u001b[0m \u001b[0mBehavior\u001b[0m\u001b[0;34m(\u001b[0m\u001b[0mak\u001b[0m\u001b[0;34m.\u001b[0m\u001b[0mbehavior\u001b[0m\u001b[0;34m,\u001b[0m \u001b[0mbehavior\u001b[0m\u001b[0;34m)\u001b[0m\u001b[0;34m\u001b[0m\u001b[0;34m\u001b[0m\u001b[0m\n\u001b[0;32m--> 219\u001b[0;31m     \u001b[0marr\u001b[0m \u001b[0;34m=\u001b[0m \u001b[0mlayout\u001b[0m\u001b[0;34m.\u001b[0m\u001b[0mparameter\u001b[0m\u001b[0;34m(\u001b[0m\u001b[0;34m\"__array__\"\u001b[0m\u001b[0;34m)\u001b[0m\u001b[0;34m\u001b[0m\u001b[0;34m\u001b[0m\u001b[0m\n\u001b[0m\u001b[1;32m    220\u001b[0m     \u001b[0;32mif\u001b[0m \u001b[0misinstance\u001b[0m\u001b[0;34m(\u001b[0m\u001b[0marr\u001b[0m\u001b[0;34m,\u001b[0m \u001b[0mstr\u001b[0m\u001b[0;34m)\u001b[0m\u001b[0;34m:\u001b[0m\u001b[0;34m\u001b[0m\u001b[0;34m\u001b[0m\u001b[0m\n\u001b[1;32m    221\u001b[0m         \u001b[0mcls\u001b[0m \u001b[0;34m=\u001b[0m \u001b[0mbehavior\u001b[0m\u001b[0;34m[\u001b[0m\u001b[0marr\u001b[0m\u001b[0;34m]\u001b[0m\u001b[0;34m\u001b[0m\u001b[0;34m\u001b[0m\u001b[0m\n",
      "\u001b[0;32m~/.conda/envs/pytorch170_pyG/lib/python3.7/json/__init__.py\u001b[0m in \u001b[0;36mloads\u001b[0;34m(s, encoding, cls, object_hook, parse_float, parse_int, parse_constant, object_pairs_hook, **kw)\u001b[0m\n\u001b[1;32m    346\u001b[0m             \u001b[0mparse_int\u001b[0m \u001b[0;32mis\u001b[0m \u001b[0;32mNone\u001b[0m \u001b[0;32mand\u001b[0m \u001b[0mparse_float\u001b[0m \u001b[0;32mis\u001b[0m \u001b[0;32mNone\u001b[0m \u001b[0;32mand\u001b[0m\u001b[0;34m\u001b[0m\u001b[0;34m\u001b[0m\u001b[0m\n\u001b[1;32m    347\u001b[0m             parse_constant is None and object_pairs_hook is None and not kw):\n\u001b[0;32m--> 348\u001b[0;31m         \u001b[0;32mreturn\u001b[0m \u001b[0m_default_decoder\u001b[0m\u001b[0;34m.\u001b[0m\u001b[0mdecode\u001b[0m\u001b[0;34m(\u001b[0m\u001b[0ms\u001b[0m\u001b[0;34m)\u001b[0m\u001b[0;34m\u001b[0m\u001b[0;34m\u001b[0m\u001b[0m\n\u001b[0m\u001b[1;32m    349\u001b[0m     \u001b[0;32mif\u001b[0m \u001b[0mcls\u001b[0m \u001b[0;32mis\u001b[0m \u001b[0;32mNone\u001b[0m\u001b[0;34m:\u001b[0m\u001b[0;34m\u001b[0m\u001b[0;34m\u001b[0m\u001b[0m\n\u001b[1;32m    350\u001b[0m         \u001b[0mcls\u001b[0m \u001b[0;34m=\u001b[0m \u001b[0mJSONDecoder\u001b[0m\u001b[0;34m\u001b[0m\u001b[0;34m\u001b[0m\u001b[0m\n",
      "\u001b[0;32m~/.conda/envs/pytorch170_pyG/lib/python3.7/json/decoder.py\u001b[0m in \u001b[0;36mdecode\u001b[0;34m(self, s, _w)\u001b[0m\n\u001b[1;32m    335\u001b[0m \u001b[0;34m\u001b[0m\u001b[0m\n\u001b[1;32m    336\u001b[0m         \"\"\"\n\u001b[0;32m--> 337\u001b[0;31m         \u001b[0mobj\u001b[0m\u001b[0;34m,\u001b[0m \u001b[0mend\u001b[0m \u001b[0;34m=\u001b[0m \u001b[0mself\u001b[0m\u001b[0;34m.\u001b[0m\u001b[0mraw_decode\u001b[0m\u001b[0;34m(\u001b[0m\u001b[0ms\u001b[0m\u001b[0;34m,\u001b[0m \u001b[0midx\u001b[0m\u001b[0;34m=\u001b[0m\u001b[0m_w\u001b[0m\u001b[0;34m(\u001b[0m\u001b[0ms\u001b[0m\u001b[0;34m,\u001b[0m \u001b[0;36m0\u001b[0m\u001b[0;34m)\u001b[0m\u001b[0;34m.\u001b[0m\u001b[0mend\u001b[0m\u001b[0;34m(\u001b[0m\u001b[0;34m)\u001b[0m\u001b[0;34m)\u001b[0m\u001b[0;34m\u001b[0m\u001b[0;34m\u001b[0m\u001b[0m\n\u001b[0m\u001b[1;32m    338\u001b[0m         \u001b[0mend\u001b[0m \u001b[0;34m=\u001b[0m \u001b[0m_w\u001b[0m\u001b[0;34m(\u001b[0m\u001b[0ms\u001b[0m\u001b[0;34m,\u001b[0m \u001b[0mend\u001b[0m\u001b[0;34m)\u001b[0m\u001b[0;34m.\u001b[0m\u001b[0mend\u001b[0m\u001b[0;34m(\u001b[0m\u001b[0;34m)\u001b[0m\u001b[0;34m\u001b[0m\u001b[0;34m\u001b[0m\u001b[0m\n\u001b[1;32m    339\u001b[0m         \u001b[0;32mif\u001b[0m \u001b[0mend\u001b[0m \u001b[0;34m!=\u001b[0m \u001b[0mlen\u001b[0m\u001b[0;34m(\u001b[0m\u001b[0ms\u001b[0m\u001b[0;34m)\u001b[0m\u001b[0;34m:\u001b[0m\u001b[0;34m\u001b[0m\u001b[0;34m\u001b[0m\u001b[0m\n",
      "\u001b[0;32m~/.conda/envs/pytorch170_pyG/lib/python3.7/json/decoder.py\u001b[0m in \u001b[0;36mraw_decode\u001b[0;34m(self, s, idx)\u001b[0m\n\u001b[1;32m    351\u001b[0m         \"\"\"\n\u001b[1;32m    352\u001b[0m         \u001b[0;32mtry\u001b[0m\u001b[0;34m:\u001b[0m\u001b[0;34m\u001b[0m\u001b[0;34m\u001b[0m\u001b[0m\n\u001b[0;32m--> 353\u001b[0;31m             \u001b[0mobj\u001b[0m\u001b[0;34m,\u001b[0m \u001b[0mend\u001b[0m \u001b[0;34m=\u001b[0m \u001b[0mself\u001b[0m\u001b[0;34m.\u001b[0m\u001b[0mscan_once\u001b[0m\u001b[0;34m(\u001b[0m\u001b[0ms\u001b[0m\u001b[0;34m,\u001b[0m \u001b[0midx\u001b[0m\u001b[0;34m)\u001b[0m\u001b[0;34m\u001b[0m\u001b[0;34m\u001b[0m\u001b[0m\n\u001b[0m\u001b[1;32m    354\u001b[0m         \u001b[0;32mexcept\u001b[0m \u001b[0mStopIteration\u001b[0m \u001b[0;32mas\u001b[0m \u001b[0merr\u001b[0m\u001b[0;34m:\u001b[0m\u001b[0;34m\u001b[0m\u001b[0;34m\u001b[0m\u001b[0m\n\u001b[1;32m    355\u001b[0m             \u001b[0;32mraise\u001b[0m \u001b[0mJSONDecodeError\u001b[0m\u001b[0;34m(\u001b[0m\u001b[0;34m\"Expecting value\"\u001b[0m\u001b[0;34m,\u001b[0m \u001b[0ms\u001b[0m\u001b[0;34m,\u001b[0m \u001b[0merr\u001b[0m\u001b[0;34m.\u001b[0m\u001b[0mvalue\u001b[0m\u001b[0;34m)\u001b[0m \u001b[0;32mfrom\u001b[0m \u001b[0;32mNone\u001b[0m\u001b[0;34m\u001b[0m\u001b[0;34m\u001b[0m\u001b[0m\n",
      "\u001b[0;31mKeyboardInterrupt\u001b[0m: "
     ]
    }
   ],
   "source": [
    "\n",
    "run_nums = [1506, 1509, 1510, 1511, 1512, 1513, 1517, 1518, 1519, 1520,1521,1522,1523]\n",
    "real_vtxs = [1.218, 1.156, 1.010, 0.752, 0.508, 0.251, 0.007, -0.249, -0.494, -0.751, -0.996, -1.142, -1.216]\n",
    "for runs in range(len(run_nums)):\n",
    "    run_num = run_nums[runs]\n",
    "    raw_path = '/store/hep/JSNS2/raw_cw/raw_data/r00'+str(run_num)+'/'\n",
    "    jade_path1 = '/store/hep/JSNS2/raw_cw/Jade_data/r00'+str(run_num)+'/prod_ver0/'\n",
    "    jade_path2 = '/store/hep/JSNS2/raw_cw/Jade_data/r00'+str(run_num)+'/reco_ver0/Run_00'+str(run_num)+'/'\n",
    "    output_path = '/store/hep/users/yewzzang/JSNS2/cf_data_1/'\n",
    "\n",
    "\n",
    "    for i in tqdm(range(53)):\n",
    "\n",
    "        raw_file = 'debug.r00'+str(run_num)+'.f'+ '{0:05d}'.format(i)+'.root'\n",
    "        prod_file = 'jade_ver0_r00'+str(run_num)+'_s'+ '{0:05d}'.format(i)+'.root'\n",
    "        reco_file = 'Reco_jade_ver0_r00'+str(run_num)+'_s'+ '{0:05d}'.format(i)+'.root'\n",
    "\n",
    "\n",
    "        output = output_path + 'r00'+str(run_num)+'_cf_data_'+ '{0:05d}'.format(i)+'.h5'\n",
    "\n",
    "\n",
    "\n",
    "\n",
    "#         pmts_high = np.empty((0,96,248))\n",
    "#         pmts_low = np.empty((0,96,248))\n",
    "        pmts_charge = np.empty((0,96,1))\n",
    "        jade_vtx = np.empty((0,3))\n",
    "        real_vtx = np.empty((0,3))\n",
    "\n",
    "#         waveform = np.array(uproot.open(raw_path+raw_file)['tree']['FADC'])\n",
    "        f = uproot.open(jade_path1+prod_file)['triggerTree']['trigger/eventsID/eventsID.pmtCharges'].array()\n",
    "        ff = uproot.open(jade_path2+reco_file)['recoTriggerTree']['recoTrigger/events/events.vertexReco'].array()\n",
    "        for events in range(len(f)):\n",
    "#         for events in range(waveform.shape[0]):\n",
    "#         for events in range(5):\n",
    "            if np.array(f[events]).shape[0] == 0:\n",
    "                continue\n",
    "            charge = np.array(f[events]).reshape(96,1)\n",
    "\n",
    "            vtx = np.array([np.array(ff[events])[0][0],\n",
    "                            np.array(ff[events])[0][1],\n",
    "                            np.array(ff[events])[0][2]])\n",
    "\n",
    "            pmts_charge = np.append(pmts_charge, charge.reshape(1,96,1),axis=0)\n",
    "            jade_vtx = np.append(jade_vtx,vtx.reshape(1,3),axis=0)\n",
    "            real_vtx = np.append(real_vtx,np.array([0,0,real_vtxs[runs]]).reshape(1,3),axis=0)\n",
    "\n",
    "\n",
    "\n",
    "#             pmt_high = np.empty((0,248))\n",
    "#             pmt_low = np.empty((0,248))\n",
    "\n",
    "#             for pmt in range(96):\n",
    "#                 pmt_high = np.append(pmt_high,waveform[events,PMTs[pmt][1],PMTs[pmt][2],:].reshape(1,-1),axis=0)\n",
    "#                 pmt_low = np.append(pmt_low,waveform[events,PMTs[pmt][3],PMTs[pmt][4],:].reshape(1,-1),axis=0)\n",
    "\n",
    "#             pmts_high = np.append(pmts_high,pmt_high.reshape(1,96,248),axis=0)\n",
    "#             pmts_low = np.append(pmts_low,pmt_low.reshape(1,96,248),axis=0)\n",
    "\n",
    "\n",
    "\n",
    "\n",
    "\n",
    "        kwargs = {'dtype':'f4', 'compression':'lzf'}\n",
    "        #     with h5py.File(output_path, 'w', libver='latest', swmr=True) as fout:\n",
    "\n",
    "        with h5py.File(output, 'w', libver='latest', swmr=True) as fout:\n",
    "\n",
    "            g = fout.create_group('events')\n",
    "            g.create_dataset('jade_vtx', data=jade_vtx, chunks=(1,3),**kwargs)\n",
    "            g.create_dataset('real_vtx', data=real_vtx, chunks=(1,3),**kwargs)\n",
    "            g.create_dataset('pmt_charge',data=pmts_charge,chunks=(1,96,1),**kwargs)\n",
    "#             g.create_dataset('high', data=pmts_high, chunks=(1, 96, 248), **kwargs)\n",
    "#             g.create_dataset('low', data=pmts_low, chunks=(1, 96, 248), **kwargs)"
   ]
  },
  {
   "cell_type": "code",
   "execution_count": null,
   "metadata": {
    "scrolled": true
   },
   "outputs": [],
   "source": [
    "pmt_high = np.empty((0,248))\n",
    "pmt_low = np.empty((0,248))\n",
    "events = 0\n",
    "for pmt in range(96):\n",
    "    pmt_high = np.append(pmt_high,waveform[events,PMTs[pmt][1],PMTs[pmt][2],:].reshape(1,-1),axis=0)\n",
    "    pmt_low = np.append(pmt_low,waveform[events,PMTs[pmt][3],PMTs[pmt][4],:].reshape(1,-1),axis=0)"
   ]
  },
  {
   "cell_type": "code",
   "execution_count": null,
   "metadata": {},
   "outputs": [],
   "source": [
    "pmt_high.shape"
   ]
  },
  {
   "cell_type": "code",
   "execution_count": null,
   "metadata": {},
   "outputs": [],
   "source": [
    "waveform[events,PMTs[pmt][1],PMTs[pmt][2],:].shape"
   ]
  },
  {
   "cell_type": "code",
   "execution_count": null,
   "metadata": {},
   "outputs": [],
   "source": []
  },
  {
   "cell_type": "code",
   "execution_count": null,
   "metadata": {},
   "outputs": [],
   "source": []
  },
  {
   "cell_type": "code",
   "execution_count": null,
   "metadata": {},
   "outputs": [],
   "source": [
    "charge = np.array(uproot.open(jade_path1+prod_file)['triggerTree']['trigger/eventsID/eventsID.pmtCharges'].array()[events]).reshape(96,1)\n"
   ]
  },
  {
   "cell_type": "code",
   "execution_count": null,
   "metadata": {
    "scrolled": true
   },
   "outputs": [],
   "source": [
    "test = []\n",
    "for i in range(waveform.shape[0]):\n",
    "    test.append(np.array(f[i]).shape)\n",
    "#     test.append(np.array(uproot.open(jade_path1+prod_file)['triggerTree']['trigger/eventsID/eventsID.pmtCharges'].array()[i]).shape)"
   ]
  },
  {
   "cell_type": "code",
   "execution_count": null,
   "metadata": {},
   "outputs": [],
   "source": [
    "len(test)"
   ]
  },
  {
   "cell_type": "code",
   "execution_count": null,
   "metadata": {},
   "outputs": [],
   "source": [
    "f = uproot.open(jade_path1+prod_file)['triggerTree']['trigger/eventsID/eventsID.pmtCharges'].array()"
   ]
  },
  {
   "cell_type": "code",
   "execution_count": null,
   "metadata": {},
   "outputs": [],
   "source": [
    "np.array(f[i].shape)"
   ]
  },
  {
   "cell_type": "code",
   "execution_count": null,
   "metadata": {},
   "outputs": [],
   "source": []
  },
  {
   "cell_type": "code",
   "execution_count": null,
   "metadata": {},
   "outputs": [],
   "source": []
  },
  {
   "cell_type": "code",
   "execution_count": null,
   "metadata": {},
   "outputs": [],
   "source": []
  }
 ],
 "metadata": {
  "kernelspec": {
   "display_name": "Python 3 (ipykernel)",
   "language": "python",
   "name": "python3"
  },
  "language_info": {
   "codemirror_mode": {
    "name": "ipython",
    "version": 3
   },
   "file_extension": ".py",
   "mimetype": "text/x-python",
   "name": "python",
   "nbconvert_exporter": "python",
   "pygments_lexer": "ipython3",
   "version": "3.7.9"
  },
  "vscode": {
   "interpreter": {
    "hash": "baef765d7813c1ec5511fd712d4886cc83778ec6bab41554607ce7dda9fbbffb"
   }
  }
 },
 "nbformat": 4,
 "nbformat_minor": 4
}
