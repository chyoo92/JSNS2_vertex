{
 "cells": [
  {
   "cell_type": "code",
   "execution_count": 1,
   "metadata": {},
   "outputs": [],
   "source": [
    "import pandas as pd\n",
    "import matplotlib.pyplot as plt\n",
    "import numpy as np"
   ]
  },
  {
   "cell_type": "code",
   "execution_count": null,
   "metadata": {},
   "outputs": [],
   "source": [
    "test = pd.read_csv('/users/yewzzang/work/make_mc_vertex/analysis/jsns2_0920_100k_10E_mc.csv')\n",
    "# test = pd.read_csv('/users/yewzzang/work/make_mc_vertex/analysis/202211101_model60_10000_1024_k10.csv')\n",
    "# test = pd.read_csv('/users/yewzzang/work/make_mc_vertex/analysis/sphere_0920_100k_10E_mc.csv')"
   ]
  },
  {
   "cell_type": "code",
   "execution_count": null,
   "metadata": {},
   "outputs": [],
   "source": [
    "f = np.array(test)"
   ]
  },
  {
   "cell_type": "code",
   "execution_count": null,
   "metadata": {},
   "outputs": [],
   "source": [
    "vtx = f[:,10:13]"
   ]
  },
  {
   "cell_type": "code",
   "execution_count": null,
   "metadata": {},
   "outputs": [],
   "source": [
    "ff = pd.read_csv('jsns_geometry_pos.csv',header=0)\n",
    "# ff = pd.read_csv('jsns_geometry_pos2.csv',header=0)\n",
    "# ff = pd.read_csv('cylinder_geometry_pos.csv',header=0)\n",
    "# ff = pd.read_csv('sphere_geometry_pos.csv',header=0)"
   ]
  },
  {
   "cell_type": "code",
   "execution_count": null,
   "metadata": {},
   "outputs": [],
   "source": [
    "len(ff)\n",
    "pmt_charge = f[:,17:17+len(ff)]\n",
    "pmt_charge_max =(np.array(f)[:,17:17+len(ff)]/(np.repeat(np.max(np.array(f)[:,17:17+len(ff)],axis=1),len(ff)).reshape(-1,len(ff))))"
   ]
  },
  {
   "cell_type": "code",
   "execution_count": null,
   "metadata": {
    "scrolled": true
   },
   "outputs": [],
   "source": [
    "### R2\n",
    "diff = vtx.reshape(-1,1,3) - np.array(ff)/1000\n",
    "diff2 = diff[:,:,0]*diff[:,:,0]+diff[:,:,1]*diff[:,:,1]+diff[:,:,2]*diff[:,:,2]"
   ]
  },
  {
   "cell_type": "code",
   "execution_count": null,
   "metadata": {},
   "outputs": [],
   "source": [
    "combined = np.concatenate([pmt_charge.reshape(-1,len(ff),1),diff2.reshape(-1,len(ff),1)],axis=2)\n",
    "combined.shape\n"
   ]
  },
  {
   "cell_type": "code",
   "execution_count": null,
   "metadata": {},
   "outputs": [],
   "source": [
    "pmt_charge_max.shape"
   ]
  },
  {
   "cell_type": "code",
   "execution_count": null,
   "metadata": {},
   "outputs": [],
   "source": [
    "combined2 = np.concatenate([pmt_charge_max.reshape(-1,len(ff),1),diff2.reshape(-1,len(ff),1)],axis=2)"
   ]
  },
  {
   "cell_type": "code",
   "execution_count": null,
   "metadata": {},
   "outputs": [],
   "source": [
    "# for i in range(1000):\n",
    "#     print(len(pmt_charge[i])==0)"
   ]
  },
  {
   "cell_type": "code",
   "execution_count": null,
   "metadata": {
    "scrolled": false
   },
   "outputs": [],
   "source": [
    "for i in range(1000):\n",
    "#     plt.plot(combined[i,:,1][combined[i,:,1]<2],combined[i,:,0][combined[i,:,1]<2],'.r')\n",
    "    plt.plot(combined[i,:,1],combined[i,:,0],'.r',label=str(len(ff)-len(combined[i,:,0][combined[i,:,0] == 0])))\n",
    "#     plt.plot(combined2[i,:,1],combined2[i,:,0],'.b',label=str(len(ff)-len(combined2[i,:,0][combined2[i,:,0] == 0])))\n",
    "    plt.legend(loc='best')\n",
    "    plt.show()"
   ]
  },
  {
   "cell_type": "code",
   "execution_count": null,
   "metadata": {},
   "outputs": [],
   "source": []
  }
 ],
 "metadata": {
  "kernelspec": {
   "display_name": "Python 3",
   "language": "python",
   "name": "python3"
  },
  "language_info": {
   "codemirror_mode": {
    "name": "ipython",
    "version": 3
   },
   "file_extension": ".py",
   "mimetype": "text/x-python",
   "name": "python",
   "nbconvert_exporter": "python",
   "pygments_lexer": "ipython3",
   "version": "3.7.9"
  }
 },
 "nbformat": 4,
 "nbformat_minor": 4
}
